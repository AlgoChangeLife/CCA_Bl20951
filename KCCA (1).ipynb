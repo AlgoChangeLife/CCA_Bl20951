{
 "cells": [
  {
   "cell_type": "code",
   "execution_count": 1,
   "id": "f3c14015",
   "metadata": {},
   "outputs": [],
   "source": [
    "import numpy as np\n",
    "import pandas as pd\n",
    "from scipy.linalg import svd\n",
    "from sklearn.metrics.pairwise import pairwise_kernels, euclidean_distances"
   ]
  },
  {
   "cell_type": "code",
   "execution_count": 2,
   "id": "8b821f2d",
   "metadata": {},
   "outputs": [],
   "source": [
    "def KernelCCA(X,Y):\n",
    "    KernelX = pairwise_kernels(X,  metric=\"rbf\",filter_params=True, n_jobs=1, degree=3, gamma=None, coef0=1)\n",
    "    KernelY = pairwise_kernels( Y, metric=\"rbf\",filter_params=True, n_jobs=1, degree=3, gamma=None, coef0=1)\n",
    "\n",
    "    I = 0.1 * np.identity(KernelX.shape[0])\n",
    "    invKernelXE = np.linalg.inv(KernelX + I)\n",
    "    invKernelYE = np.linalg.inv(KernelY + I)\n",
    "    M = np.dot(invKernelXE, np.dot(KernelX, np.dot(KernelY, invKernelYE)))\n",
    "    A, D, B = svd(M)\n",
    "    alpha = np.dot(invKernelXE, A[:, :10])\n",
    "    beta = np.dot(invKernelYE, B.T[:, :10])\n",
    "    return alpha,beta"
   ]
  },
  {
   "cell_type": "code",
   "execution_count": 3,
   "id": "32a836c8",
   "metadata": {},
   "outputs": [],
   "source": [
    "X=pd.read_csv('../data/bio_feature_toy.csv').values\n",
    "Y=pd.read_csv('../data/label_one_hot_toy.csv').values"
   ]
  },
  {
   "cell_type": "code",
   "execution_count": null,
   "id": "421a7675",
   "metadata": {
    "tags": []
   },
   "outputs": [],
   "source": [
    "alpha,beta = KernelCCA(X, Y)"
   ]
  },
  {
   "cell_type": "code",
   "execution_count": null,
   "id": "d32d33f3",
   "metadata": {},
   "outputs": [],
   "source": [
    "KernelX = pairwise_kernels(X,  metric=\"rbf\",filter_params=True, n_jobs=1, degree=3, gamma=None, coef0=1)\n",
    "KernelY = pairwise_kernels(Y,  metric=\"rbf\",filter_params=True, n_jobs=1, degree=3, gamma=None, coef0=1)"
   ]
  },
  {
   "cell_type": "code",
   "execution_count": null,
   "id": "a20cb4c7",
   "metadata": {},
   "outputs": [],
   "source": [
    "for i in range(10):\n",
    "    print(np.corrcoef(KernelX.dot(alpha[:,i:i+1]).reshape(-1),KernelY.dot(beta[:,i:i+1]).reshape(-1))[0,1])"
   ]
  },
  {
   "cell_type": "code",
   "execution_count": null,
   "id": "c14c53ab",
   "metadata": {},
   "outputs": [],
   "source": [
    "pd.DataFrame(Kx.dot(alpha[:,:10])).to_csv('KCCA_fe.csv')"
   ]
  },
  {
   "cell_type": "code",
   "execution_count": null,
   "id": "f12b9b6a",
   "metadata": {},
   "outputs": [],
   "source": [
    "pd.DataFrame(Ky.dot(beta[:,:10])).to_csv('KCCA_ta.csv')"
   ]
  },
  {
   "cell_type": "code",
   "execution_count": null,
   "id": "e9f1d1b3",
   "metadata": {},
   "outputs": [],
   "source": []
  }
 ],
 "metadata": {
  "kernelspec": {
   "display_name": "Python 3 (ipykernel)",
   "language": "python",
   "name": "python3"
  },
  "language_info": {
   "codemirror_mode": {
    "name": "ipython",
    "version": 3
   },
   "file_extension": ".py",
   "mimetype": "text/x-python",
   "name": "python",
   "nbconvert_exporter": "python",
   "pygments_lexer": "ipython3",
   "version": "3.7.11"
  }
 },
 "nbformat": 4,
 "nbformat_minor": 5
}
