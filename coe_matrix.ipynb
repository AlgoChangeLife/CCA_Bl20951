{
 "cells": [
  {
   "cell_type": "code",
   "execution_count": 1,
   "metadata": {},
   "outputs": [],
   "source": [
    "import pandas as pd\n",
    "import numpy as np\n",
    "from sklearn.linear_model import LinearRegression"
   ]
  },
  {
   "cell_type": "code",
   "execution_count": 2,
   "metadata": {},
   "outputs": [],
   "source": [
    "bio_feature=pd.read_csv('bio_feature_test.csv')\n",
    "label_one_hot=pd.read_csv('label_one_hot_test.csv')"
   ]
  },
  {
   "cell_type": "code",
   "execution_count": 3,
   "metadata": {},
   "outputs": [
    {
     "data": {
      "text/html": [
       "<div>\n",
       "<style scoped>\n",
       "    .dataframe tbody tr th:only-of-type {\n",
       "        vertical-align: middle;\n",
       "    }\n",
       "\n",
       "    .dataframe tbody tr th {\n",
       "        vertical-align: top;\n",
       "    }\n",
       "\n",
       "    .dataframe thead th {\n",
       "        text-align: right;\n",
       "    }\n",
       "</style>\n",
       "<table border=\"1\" class=\"dataframe\">\n",
       "  <thead>\n",
       "    <tr style=\"text-align: right;\">\n",
       "      <th></th>\n",
       "      <th>b'B'</th>\n",
       "      <th>b'CD4 T'</th>\n",
       "      <th>b'CD8 T'</th>\n",
       "      <th>b'DC'</th>\n",
       "      <th>b'Mono'</th>\n",
       "      <th>b'NK'</th>\n",
       "      <th>b'other'</th>\n",
       "      <th>b'other T'</th>\n",
       "      <th>b'ASDC'</th>\n",
       "      <th>b'B intermediate'</th>\n",
       "      <th>...</th>\n",
       "      <th>b'cDC1'.1</th>\n",
       "      <th>b'cDC2_1'</th>\n",
       "      <th>b'cDC2_2'</th>\n",
       "      <th>b'dnT_1'</th>\n",
       "      <th>b'dnT_2'</th>\n",
       "      <th>b'gdT_1'</th>\n",
       "      <th>b'gdT_2'</th>\n",
       "      <th>b'gdT_3'</th>\n",
       "      <th>b'gdT_4'</th>\n",
       "      <th>b'pDC'.1</th>\n",
       "    </tr>\n",
       "  </thead>\n",
       "  <tbody>\n",
       "    <tr>\n",
       "      <th>0</th>\n",
       "      <td>-0.305394</td>\n",
       "      <td>-0.582678</td>\n",
       "      <td>2.313304</td>\n",
       "      <td>-0.150632</td>\n",
       "      <td>-0.659288</td>\n",
       "      <td>-0.361145</td>\n",
       "      <td>-0.147446</td>\n",
       "      <td>-0.209301</td>\n",
       "      <td>-0.02168</td>\n",
       "      <td>-0.123520</td>\n",
       "      <td>...</td>\n",
       "      <td>-0.030567</td>\n",
       "      <td>-0.069248</td>\n",
       "      <td>-0.103941</td>\n",
       "      <td>-0.034201</td>\n",
       "      <td>-0.032147</td>\n",
       "      <td>-0.100984</td>\n",
       "      <td>-0.069112</td>\n",
       "      <td>-0.06705</td>\n",
       "      <td>-0.056952</td>\n",
       "      <td>-0.073151</td>\n",
       "    </tr>\n",
       "    <tr>\n",
       "      <th>1</th>\n",
       "      <td>-0.305394</td>\n",
       "      <td>-0.582678</td>\n",
       "      <td>2.313304</td>\n",
       "      <td>-0.150632</td>\n",
       "      <td>-0.659288</td>\n",
       "      <td>-0.361145</td>\n",
       "      <td>-0.147446</td>\n",
       "      <td>-0.209301</td>\n",
       "      <td>-0.02168</td>\n",
       "      <td>-0.123520</td>\n",
       "      <td>...</td>\n",
       "      <td>-0.030567</td>\n",
       "      <td>-0.069248</td>\n",
       "      <td>-0.103941</td>\n",
       "      <td>-0.034201</td>\n",
       "      <td>-0.032147</td>\n",
       "      <td>-0.100984</td>\n",
       "      <td>-0.069112</td>\n",
       "      <td>-0.06705</td>\n",
       "      <td>-0.056952</td>\n",
       "      <td>-0.073151</td>\n",
       "    </tr>\n",
       "    <tr>\n",
       "      <th>2</th>\n",
       "      <td>-0.305394</td>\n",
       "      <td>-0.582678</td>\n",
       "      <td>-0.432279</td>\n",
       "      <td>-0.150632</td>\n",
       "      <td>1.516779</td>\n",
       "      <td>-0.361145</td>\n",
       "      <td>-0.147446</td>\n",
       "      <td>-0.209301</td>\n",
       "      <td>-0.02168</td>\n",
       "      <td>-0.123520</td>\n",
       "      <td>...</td>\n",
       "      <td>-0.030567</td>\n",
       "      <td>-0.069248</td>\n",
       "      <td>-0.103941</td>\n",
       "      <td>-0.034201</td>\n",
       "      <td>-0.032147</td>\n",
       "      <td>-0.100984</td>\n",
       "      <td>-0.069112</td>\n",
       "      <td>-0.06705</td>\n",
       "      <td>-0.056952</td>\n",
       "      <td>-0.073151</td>\n",
       "    </tr>\n",
       "    <tr>\n",
       "      <th>3</th>\n",
       "      <td>-0.305394</td>\n",
       "      <td>1.716202</td>\n",
       "      <td>-0.432279</td>\n",
       "      <td>-0.150632</td>\n",
       "      <td>-0.659288</td>\n",
       "      <td>-0.361145</td>\n",
       "      <td>-0.147446</td>\n",
       "      <td>-0.209301</td>\n",
       "      <td>-0.02168</td>\n",
       "      <td>-0.123520</td>\n",
       "      <td>...</td>\n",
       "      <td>-0.030567</td>\n",
       "      <td>-0.069248</td>\n",
       "      <td>-0.103941</td>\n",
       "      <td>-0.034201</td>\n",
       "      <td>-0.032147</td>\n",
       "      <td>-0.100984</td>\n",
       "      <td>-0.069112</td>\n",
       "      <td>-0.06705</td>\n",
       "      <td>-0.056952</td>\n",
       "      <td>-0.073151</td>\n",
       "    </tr>\n",
       "    <tr>\n",
       "      <th>4</th>\n",
       "      <td>-0.305394</td>\n",
       "      <td>-0.582678</td>\n",
       "      <td>-0.432279</td>\n",
       "      <td>-0.150632</td>\n",
       "      <td>-0.659288</td>\n",
       "      <td>2.768956</td>\n",
       "      <td>-0.147446</td>\n",
       "      <td>-0.209301</td>\n",
       "      <td>-0.02168</td>\n",
       "      <td>-0.123520</td>\n",
       "      <td>...</td>\n",
       "      <td>-0.030567</td>\n",
       "      <td>-0.069248</td>\n",
       "      <td>-0.103941</td>\n",
       "      <td>-0.034201</td>\n",
       "      <td>-0.032147</td>\n",
       "      <td>-0.100984</td>\n",
       "      <td>-0.069112</td>\n",
       "      <td>-0.06705</td>\n",
       "      <td>-0.056952</td>\n",
       "      <td>-0.073151</td>\n",
       "    </tr>\n",
       "    <tr>\n",
       "      <th>...</th>\n",
       "      <td>...</td>\n",
       "      <td>...</td>\n",
       "      <td>...</td>\n",
       "      <td>...</td>\n",
       "      <td>...</td>\n",
       "      <td>...</td>\n",
       "      <td>...</td>\n",
       "      <td>...</td>\n",
       "      <td>...</td>\n",
       "      <td>...</td>\n",
       "      <td>...</td>\n",
       "      <td>...</td>\n",
       "      <td>...</td>\n",
       "      <td>...</td>\n",
       "      <td>...</td>\n",
       "      <td>...</td>\n",
       "      <td>...</td>\n",
       "      <td>...</td>\n",
       "      <td>...</td>\n",
       "      <td>...</td>\n",
       "      <td>...</td>\n",
       "    </tr>\n",
       "    <tr>\n",
       "      <th>16171</th>\n",
       "      <td>-0.305394</td>\n",
       "      <td>-0.582678</td>\n",
       "      <td>2.313304</td>\n",
       "      <td>-0.150632</td>\n",
       "      <td>-0.659288</td>\n",
       "      <td>-0.361145</td>\n",
       "      <td>-0.147446</td>\n",
       "      <td>-0.209301</td>\n",
       "      <td>-0.02168</td>\n",
       "      <td>-0.123520</td>\n",
       "      <td>...</td>\n",
       "      <td>-0.030567</td>\n",
       "      <td>-0.069248</td>\n",
       "      <td>-0.103941</td>\n",
       "      <td>-0.034201</td>\n",
       "      <td>-0.032147</td>\n",
       "      <td>-0.100984</td>\n",
       "      <td>-0.069112</td>\n",
       "      <td>-0.06705</td>\n",
       "      <td>-0.056952</td>\n",
       "      <td>-0.073151</td>\n",
       "    </tr>\n",
       "    <tr>\n",
       "      <th>16172</th>\n",
       "      <td>-0.305394</td>\n",
       "      <td>-0.582678</td>\n",
       "      <td>2.313304</td>\n",
       "      <td>-0.150632</td>\n",
       "      <td>-0.659288</td>\n",
       "      <td>-0.361145</td>\n",
       "      <td>-0.147446</td>\n",
       "      <td>-0.209301</td>\n",
       "      <td>-0.02168</td>\n",
       "      <td>-0.123520</td>\n",
       "      <td>...</td>\n",
       "      <td>-0.030567</td>\n",
       "      <td>-0.069248</td>\n",
       "      <td>-0.103941</td>\n",
       "      <td>-0.034201</td>\n",
       "      <td>-0.032147</td>\n",
       "      <td>-0.100984</td>\n",
       "      <td>-0.069112</td>\n",
       "      <td>-0.06705</td>\n",
       "      <td>-0.056952</td>\n",
       "      <td>-0.073151</td>\n",
       "    </tr>\n",
       "    <tr>\n",
       "      <th>16173</th>\n",
       "      <td>-0.305394</td>\n",
       "      <td>-0.582678</td>\n",
       "      <td>-0.432279</td>\n",
       "      <td>-0.150632</td>\n",
       "      <td>-0.659288</td>\n",
       "      <td>-0.361145</td>\n",
       "      <td>6.782095</td>\n",
       "      <td>-0.209301</td>\n",
       "      <td>-0.02168</td>\n",
       "      <td>-0.123520</td>\n",
       "      <td>...</td>\n",
       "      <td>-0.030567</td>\n",
       "      <td>-0.069248</td>\n",
       "      <td>-0.103941</td>\n",
       "      <td>-0.034201</td>\n",
       "      <td>-0.032147</td>\n",
       "      <td>-0.100984</td>\n",
       "      <td>-0.069112</td>\n",
       "      <td>-0.06705</td>\n",
       "      <td>-0.056952</td>\n",
       "      <td>-0.073151</td>\n",
       "    </tr>\n",
       "    <tr>\n",
       "      <th>16174</th>\n",
       "      <td>-0.305394</td>\n",
       "      <td>1.716202</td>\n",
       "      <td>-0.432279</td>\n",
       "      <td>-0.150632</td>\n",
       "      <td>-0.659288</td>\n",
       "      <td>-0.361145</td>\n",
       "      <td>-0.147446</td>\n",
       "      <td>-0.209301</td>\n",
       "      <td>-0.02168</td>\n",
       "      <td>-0.123520</td>\n",
       "      <td>...</td>\n",
       "      <td>-0.030567</td>\n",
       "      <td>-0.069248</td>\n",
       "      <td>-0.103941</td>\n",
       "      <td>-0.034201</td>\n",
       "      <td>-0.032147</td>\n",
       "      <td>-0.100984</td>\n",
       "      <td>-0.069112</td>\n",
       "      <td>-0.06705</td>\n",
       "      <td>-0.056952</td>\n",
       "      <td>-0.073151</td>\n",
       "    </tr>\n",
       "    <tr>\n",
       "      <th>16175</th>\n",
       "      <td>3.274441</td>\n",
       "      <td>-0.582678</td>\n",
       "      <td>-0.432279</td>\n",
       "      <td>-0.150632</td>\n",
       "      <td>-0.659288</td>\n",
       "      <td>-0.361145</td>\n",
       "      <td>-0.147446</td>\n",
       "      <td>-0.209301</td>\n",
       "      <td>-0.02168</td>\n",
       "      <td>8.095786</td>\n",
       "      <td>...</td>\n",
       "      <td>-0.030567</td>\n",
       "      <td>-0.069248</td>\n",
       "      <td>-0.103941</td>\n",
       "      <td>-0.034201</td>\n",
       "      <td>-0.032147</td>\n",
       "      <td>-0.100984</td>\n",
       "      <td>-0.069112</td>\n",
       "      <td>-0.06705</td>\n",
       "      <td>-0.056952</td>\n",
       "      <td>-0.073151</td>\n",
       "    </tr>\n",
       "  </tbody>\n",
       "</table>\n",
       "<p>16176 rows × 97 columns</p>\n",
       "</div>"
      ],
      "text/plain": [
       "           b'B'  b'CD4 T'  b'CD8 T'     b'DC'   b'Mono'     b'NK'  b'other'  \\\n",
       "0     -0.305394 -0.582678  2.313304 -0.150632 -0.659288 -0.361145 -0.147446   \n",
       "1     -0.305394 -0.582678  2.313304 -0.150632 -0.659288 -0.361145 -0.147446   \n",
       "2     -0.305394 -0.582678 -0.432279 -0.150632  1.516779 -0.361145 -0.147446   \n",
       "3     -0.305394  1.716202 -0.432279 -0.150632 -0.659288 -0.361145 -0.147446   \n",
       "4     -0.305394 -0.582678 -0.432279 -0.150632 -0.659288  2.768956 -0.147446   \n",
       "...         ...       ...       ...       ...       ...       ...       ...   \n",
       "16171 -0.305394 -0.582678  2.313304 -0.150632 -0.659288 -0.361145 -0.147446   \n",
       "16172 -0.305394 -0.582678  2.313304 -0.150632 -0.659288 -0.361145 -0.147446   \n",
       "16173 -0.305394 -0.582678 -0.432279 -0.150632 -0.659288 -0.361145  6.782095   \n",
       "16174 -0.305394  1.716202 -0.432279 -0.150632 -0.659288 -0.361145 -0.147446   \n",
       "16175  3.274441 -0.582678 -0.432279 -0.150632 -0.659288 -0.361145 -0.147446   \n",
       "\n",
       "       b'other T'  b'ASDC'  b'B intermediate'  ...  b'cDC1'.1  b'cDC2_1'  \\\n",
       "0       -0.209301 -0.02168          -0.123520  ...  -0.030567  -0.069248   \n",
       "1       -0.209301 -0.02168          -0.123520  ...  -0.030567  -0.069248   \n",
       "2       -0.209301 -0.02168          -0.123520  ...  -0.030567  -0.069248   \n",
       "3       -0.209301 -0.02168          -0.123520  ...  -0.030567  -0.069248   \n",
       "4       -0.209301 -0.02168          -0.123520  ...  -0.030567  -0.069248   \n",
       "...           ...      ...                ...  ...        ...        ...   \n",
       "16171   -0.209301 -0.02168          -0.123520  ...  -0.030567  -0.069248   \n",
       "16172   -0.209301 -0.02168          -0.123520  ...  -0.030567  -0.069248   \n",
       "16173   -0.209301 -0.02168          -0.123520  ...  -0.030567  -0.069248   \n",
       "16174   -0.209301 -0.02168          -0.123520  ...  -0.030567  -0.069248   \n",
       "16175   -0.209301 -0.02168           8.095786  ...  -0.030567  -0.069248   \n",
       "\n",
       "       b'cDC2_2'  b'dnT_1'  b'dnT_2'  b'gdT_1'  b'gdT_2'  b'gdT_3'  b'gdT_4'  \\\n",
       "0      -0.103941 -0.034201 -0.032147 -0.100984 -0.069112  -0.06705 -0.056952   \n",
       "1      -0.103941 -0.034201 -0.032147 -0.100984 -0.069112  -0.06705 -0.056952   \n",
       "2      -0.103941 -0.034201 -0.032147 -0.100984 -0.069112  -0.06705 -0.056952   \n",
       "3      -0.103941 -0.034201 -0.032147 -0.100984 -0.069112  -0.06705 -0.056952   \n",
       "4      -0.103941 -0.034201 -0.032147 -0.100984 -0.069112  -0.06705 -0.056952   \n",
       "...          ...       ...       ...       ...       ...       ...       ...   \n",
       "16171  -0.103941 -0.034201 -0.032147 -0.100984 -0.069112  -0.06705 -0.056952   \n",
       "16172  -0.103941 -0.034201 -0.032147 -0.100984 -0.069112  -0.06705 -0.056952   \n",
       "16173  -0.103941 -0.034201 -0.032147 -0.100984 -0.069112  -0.06705 -0.056952   \n",
       "16174  -0.103941 -0.034201 -0.032147 -0.100984 -0.069112  -0.06705 -0.056952   \n",
       "16175  -0.103941 -0.034201 -0.032147 -0.100984 -0.069112  -0.06705 -0.056952   \n",
       "\n",
       "       b'pDC'.1  \n",
       "0     -0.073151  \n",
       "1     -0.073151  \n",
       "2     -0.073151  \n",
       "3     -0.073151  \n",
       "4     -0.073151  \n",
       "...         ...  \n",
       "16171 -0.073151  \n",
       "16172 -0.073151  \n",
       "16173 -0.073151  \n",
       "16174 -0.073151  \n",
       "16175 -0.073151  \n",
       "\n",
       "[16176 rows x 97 columns]"
      ]
     },
     "execution_count": 3,
     "metadata": {},
     "output_type": "execute_result"
    }
   ],
   "source": [
    "label_one_hot"
   ]
  },
  {
   "cell_type": "code",
   "execution_count": 4,
   "metadata": {},
   "outputs": [],
   "source": [
    "XY_coefficient=[]\n",
    "for label in label_one_hot.columns:\n",
    "    reg = LinearRegression().fit(bio_feature, label_one_hot[label])\n",
    "    XY_coefficient.append(reg.coef_)"
   ]
  },
  {
   "cell_type": "code",
   "execution_count": 5,
   "metadata": {},
   "outputs": [
    {
     "data": {
      "text/plain": [
       "(224, 97)"
      ]
     },
     "execution_count": 5,
     "metadata": {},
     "output_type": "execute_result"
    }
   ],
   "source": [
    "pd.DataFrame(XY_coefficient).T.shape"
   ]
  },
  {
   "cell_type": "code",
   "execution_count": 6,
   "metadata": {},
   "outputs": [],
   "source": [
    "pd.DataFrame(XY_coefficient).T.to_csv('XY_coefficient.csv',index=None)"
   ]
  },
  {
   "cell_type": "code",
   "execution_count": 7,
   "metadata": {},
   "outputs": [],
   "source": [
    "bio_feature_train=pd.read_csv('bio_feature_train.csv')"
   ]
  },
  {
   "cell_type": "code",
   "execution_count": 8,
   "metadata": {},
   "outputs": [],
   "source": [
    "XX_coefficient=[]\n",
    "for label in bio_feature_train.columns:\n",
    "#     print(bio_feature_train[label])\n",
    "    reg = LinearRegression().fit(bio_feature_train.drop([label],axis=1), bio_feature_train[label])\n",
    "    XX_coefficient.append(reg.coef_)"
   ]
  },
  {
   "cell_type": "code",
   "execution_count": 9,
   "metadata": {},
   "outputs": [],
   "source": [
    "XX_coefficient_2=[]\n",
    "for i in range(224):\n",
    "    tmp=XX_coefficient[i].tolist()\n",
    "    tmp.insert(i,1)\n",
    "    XX_coefficient_2.append(tmp)"
   ]
  },
  {
   "cell_type": "code",
   "execution_count": 10,
   "metadata": {},
   "outputs": [
    {
     "data": {
      "text/plain": [
       "224"
      ]
     },
     "execution_count": 10,
     "metadata": {},
     "output_type": "execute_result"
    }
   ],
   "source": [
    "len(XX_coefficient_2)"
   ]
  },
  {
   "cell_type": "code",
   "execution_count": 11,
   "metadata": {},
   "outputs": [
    {
     "data": {
      "text/plain": [
       "224"
      ]
     },
     "execution_count": 11,
     "metadata": {},
     "output_type": "execute_result"
    }
   ],
   "source": [
    "len(XX_coefficient_2[0])"
   ]
  },
  {
   "cell_type": "code",
   "execution_count": 12,
   "metadata": {},
   "outputs": [
    {
     "data": {
      "text/plain": [
       "1.0"
      ]
     },
     "execution_count": 12,
     "metadata": {},
     "output_type": "execute_result"
    }
   ],
   "source": [
    "np.max(XX_coefficient_2)"
   ]
  },
  {
   "cell_type": "code",
   "execution_count": 13,
   "metadata": {},
   "outputs": [],
   "source": [
    "pd.DataFrame(XX_coefficient_2).to_csv('XX_coefficient.csv',index=None)"
   ]
  },
  {
   "cell_type": "code",
   "execution_count": 14,
   "metadata": {},
   "outputs": [
    {
     "data": {
      "text/plain": [
       "(16176, 224)"
      ]
     },
     "execution_count": 14,
     "metadata": {},
     "output_type": "execute_result"
    }
   ],
   "source": [
    "bio_feature.values.shape"
   ]
  },
  {
   "cell_type": "code",
   "execution_count": 15,
   "metadata": {},
   "outputs": [
    {
     "data": {
      "text/plain": [
       "(224, 224)"
      ]
     },
     "execution_count": 15,
     "metadata": {},
     "output_type": "execute_result"
    }
   ],
   "source": [
    "(bio_feature.T.dot(bio_feature)).shape"
   ]
  },
  {
   "cell_type": "code",
   "execution_count": 16,
   "metadata": {},
   "outputs": [],
   "source": [
    "# pd.DataFrame(bio_feature.T.dot(bio_feature)/(bio_feature.values.shape[0]-1)).to_csv('XX_coefficient.csv',index=None)"
   ]
  },
  {
   "cell_type": "code",
   "execution_count": 17,
   "metadata": {},
   "outputs": [],
   "source": [
    "pd.DataFrame(label_one_hot.T.dot(label_one_hot)/(label_one_hot.values.shape[0]-1)).to_csv('YY_coefficient.csv',index=None)"
   ]
  },
  {
   "cell_type": "code",
   "execution_count": 18,
   "metadata": {},
   "outputs": [],
   "source": [
    "pd.DataFrame(bio_feature.T.dot(label_one_hot)/(label_one_hot.values.shape[0]-1)).to_csv('XY_coefficient_2.csv',index=None)"
   ]
  },
  {
   "cell_type": "code",
   "execution_count": null,
   "metadata": {},
   "outputs": [],
   "source": []
  }
 ],
 "metadata": {
  "kernelspec": {
   "display_name": "Python 3 (ipykernel)",
   "language": "python",
   "name": "python3"
  },
  "language_info": {
   "codemirror_mode": {
    "name": "ipython",
    "version": 3
   },
   "file_extension": ".py",
   "mimetype": "text/x-python",
   "name": "python",
   "nbconvert_exporter": "python",
   "pygments_lexer": "ipython3",
   "version": "3.7.11"
  }
 },
 "nbformat": 4,
 "nbformat_minor": 4
}
