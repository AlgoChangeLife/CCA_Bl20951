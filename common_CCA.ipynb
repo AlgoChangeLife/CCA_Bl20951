{
 "cells": [
  {
   "cell_type": "code",
   "execution_count": 1,
   "id": "bbc27b61-6a47-4830-9773-8d8c4015de21",
   "metadata": {},
   "outputs": [],
   "source": [
    "import numpy as np\n",
    "from scipy import linalg\n",
    "import pandas as pd"
   ]
  },
  {
   "cell_type": "code",
   "execution_count": 2,
   "id": "3d09cc91-06dc-4452-ba12-98a37d8e5c21",
   "metadata": {},
   "outputs": [],
   "source": [
    "X_train=pd.read_csv('python_CCA/bio_feature_test.csv').values\n",
    "Y_train=pd.read_csv('python_CCA/label_one_hot_test.csv').values"
   ]
  },
  {
   "cell_type": "code",
   "execution_count": 3,
   "id": "89370e09-6dcb-462a-b679-ae7fe941c3e0",
   "metadata": {},
   "outputs": [
    {
     "data": {
      "text/plain": [
       "(16176, 224)"
      ]
     },
     "execution_count": 3,
     "metadata": {},
     "output_type": "execute_result"
    }
   ],
   "source": [
    "X_train.shape"
   ]
  },
  {
   "cell_type": "code",
   "execution_count": 4,
   "id": "925fbc5d-6627-467e-a80e-79b67b976f49",
   "metadata": {},
   "outputs": [
    {
     "data": {
      "text/plain": [
       "(16176, 97)"
      ]
     },
     "execution_count": 4,
     "metadata": {},
     "output_type": "execute_result"
    }
   ],
   "source": [
    "Y_train.shape"
   ]
  },
  {
   "cell_type": "code",
   "execution_count": 4,
   "id": "5a77cfe3-ebff-4021-ad15-c7a46dd94df9",
   "metadata": {},
   "outputs": [
    {
     "data": {
      "text/plain": [
       "CCA(n_components=10)"
      ]
     },
     "execution_count": 4,
     "metadata": {},
     "output_type": "execute_result"
    }
   ],
   "source": [
    "from sklearn.cross_decomposition import CCA\n",
    "cca_sklearn = CCA(n_components=10)\n",
    "cca_sklearn.fit(X_train, Y_train)\n"
   ]
  },
  {
   "cell_type": "code",
   "execution_count": 5,
   "id": "9dab7514-05fb-4167-b37d-7a8bbcbd1ca7",
   "metadata": {},
   "outputs": [],
   "source": [
    "X_c, Y_c,x_rotations_,y_rotations_= cca_sklearn.transform(X_train, Y_train)\n"
   ]
  },
  {
   "cell_type": "code",
   "execution_count": 6,
   "id": "a4820b01-7d22-4eef-8a77-4114b20e4c86",
   "metadata": {},
   "outputs": [
    {
     "data": {
      "text/plain": [
       "(224, 10)"
      ]
     },
     "execution_count": 6,
     "metadata": {},
     "output_type": "execute_result"
    }
   ],
   "source": [
    "x_rotations_.shape"
   ]
  },
  {
   "cell_type": "code",
   "execution_count": 7,
   "id": "292d916e-1249-4639-bef2-c6eda66c4883",
   "metadata": {},
   "outputs": [
    {
     "data": {
      "text/plain": [
       "(16176, 10)"
      ]
     },
     "execution_count": 7,
     "metadata": {},
     "output_type": "execute_result"
    }
   ],
   "source": [
    "X_c.shape"
   ]
  },
  {
   "cell_type": "code",
   "execution_count": 8,
   "id": "12af5726-2c44-4739-aa2e-aa1694eb9b0d",
   "metadata": {},
   "outputs": [
    {
     "name": "stdout",
     "output_type": "stream",
     "text": [
      "0.983635657293716\n",
      "0.9848095531869951\n",
      "0.9721612118592337\n",
      "0.951726464496265\n",
      "0.9034520516623448\n",
      "0.8739493060147125\n",
      "0.8672006680778138\n",
      "0.8537012114214797\n",
      "0.8399436878086658\n",
      "0.8299834131203779\n"
     ]
    }
   ],
   "source": [
    "# X_c_, Y_c_ = cca_sklearn.transform(X_test, Y_test)\n",
    "for i in range(10):\n",
    "    print (np.corrcoef(X_c[:,i], Y_c[:, i])[0,1])\n",
    "# print (np.corrcoef(X_c_[:, 0], Y_c_[:, 0])[0,1])"
   ]
  },
  {
   "cell_type": "code",
   "execution_count": 9,
   "id": "0f0efccc-9071-4167-9a18-4edb273d16d8",
   "metadata": {},
   "outputs": [
    {
     "name": "stdout",
     "output_type": "stream",
     "text": [
      "0.983635657293716\n"
     ]
    }
   ],
   "source": [
    "print (np.corrcoef(X_c[:, 0], Y_c[:, 0])[0,1])"
   ]
  },
  {
   "cell_type": "code",
   "execution_count": 10,
   "id": "2582e176-560d-47aa-a7ae-b05ef30989df",
   "metadata": {},
   "outputs": [],
   "source": [
    "pd.DataFrame(X_c).to_csv('CCA_fe.csv')\n",
    "pd.DataFrame(Y_c).to_csv('CCA_ta.csv')"
   ]
  },
  {
   "cell_type": "code",
   "execution_count": null,
   "id": "bff82c90-b881-4e5d-bd23-5e08a3387275",
   "metadata": {},
   "outputs": [],
   "source": []
  }
 ],
 "metadata": {
  "kernelspec": {
   "display_name": "Python 3 (ipykernel)",
   "language": "python",
   "name": "python3"
  },
  "language_info": {
   "codemirror_mode": {
    "name": "ipython",
    "version": 3
   },
   "file_extension": ".py",
   "mimetype": "text/x-python",
   "name": "python",
   "nbconvert_exporter": "python",
   "pygments_lexer": "ipython3",
   "version": "3.7.11"
  }
 },
 "nbformat": 4,
 "nbformat_minor": 5
}
