{
 "cells": [
  {
   "cell_type": "code",
   "execution_count": 23,
   "id": "7da5dca7-9d7d-4918-9380-f57be22ade8c",
   "metadata": {},
   "outputs": [],
   "source": [
    "import h5py    \n",
    "import numpy as np  \n",
    "import os\n",
    "import pandas as pd\n",
    "import pickle as pkl\n",
    "import matplotlib as mpl\n",
    "import matplotlib.pyplot as plt\n",
    "from sklearn import svm\n",
    "from sklearn import tree\n",
    "from sklearn.metrics import accuracy_score\n",
    "from sklearn.model_selection import KFold"
   ]
  },
  {
   "cell_type": "code",
   "execution_count": 4,
   "id": "d94f61ba-99ec-4b61-a628-0b30bff5aa11",
   "metadata": {},
   "outputs": [],
   "source": [
    "label1=pd.read_csv('data/label1_test.csv')\n",
    "label2=pd.read_csv('data/label2_test.csv')\n",
    "label3=pd.read_csv('data/label3_test.csv')"
   ]
  },
  {
   "cell_type": "code",
   "execution_count": 7,
   "id": "f65029a0-ab82-425f-8c37-725abbe7505c",
   "metadata": {},
   "outputs": [],
   "source": [
    "kf = KFold(n_splits=5,shuffle=True)"
   ]
  },
  {
   "cell_type": "code",
   "execution_count": 8,
   "id": "a4d12643-1d20-4950-b6ad-62505093f4fe",
   "metadata": {},
   "outputs": [
    {
     "name": "stdout",
     "output_type": "stream",
     "text": [
      "[    0     1     2 ... 16173 16174 16175] [    9    10    21 ... 16152 16167 16172]\n",
      "[    0     1     2 ... 16172 16174 16175] [    3     6    11 ... 16168 16169 16173]\n",
      "[    0     1     3 ... 16172 16173 16175] [    2    20    23 ... 16165 16171 16174]\n",
      "[    0     1     2 ... 16172 16173 16174] [    4    16    17 ... 16166 16170 16175]\n",
      "[    2     3     4 ... 16173 16174 16175] [    0     1     5 ... 16150 16161 16163]\n"
     ]
    }
   ],
   "source": [
    "for train_index, test_index in kf.split(label1):\n",
    "    print(train_index,test_index)"
   ]
  },
  {
   "cell_type": "code",
   "execution_count": 38,
   "id": "3569fd76-2838-414f-b77c-39758fc7af33",
   "metadata": {},
   "outputs": [
    {
     "name": "stdout",
     "output_type": "stream",
     "text": [
      "deep\n",
      "0.9945908353295727\n",
      "0.9752704791344667\n"
     ]
    }
   ],
   "source": [
    "feature=pd.read_csv('data/bio_feature_test.csv')\n",
    "clf = tree.DecisionTreeClassifier(max_depth=10)\n",
    "clf.fit(feature.loc[train_index.tolist()], label1.loc[train_index.tolist()])\n",
    "print(algo )\n",
    "print(accuracy_score( label1.loc[train_index.tolist()], clf.predict(feature.loc[train_index.tolist()])))\n",
    "print(accuracy_score( label1.loc[test_index.tolist()], clf.predict(feature.loc[test_index.tolist()])))"
   ]
  },
  {
   "cell_type": "code",
   "execution_count": 39,
   "id": "b1801e74-f651-4796-99a4-cf1ef4f541ad",
   "metadata": {},
   "outputs": [
    {
     "name": "stdout",
     "output_type": "stream",
     "text": [
      "ori\n",
      "0.9332354532107257\n",
      "0.8701700154559505\n"
     ]
    }
   ],
   "source": [
    "feature=pd.read_csv('data/bio_feature_test.csv')\n",
    "clf = tree.DecisionTreeClassifier(max_depth=10)\n",
    "clf.fit(feature.loc[train_index.tolist()], label2.loc[train_index.tolist()])\n",
    "print('ori')\n",
    "print(accuracy_score( label2.loc[train_index.tolist()], clf.predict(feature.loc[train_index.tolist()])))\n",
    "print(accuracy_score( label2.loc[test_index.tolist()], clf.predict(feature.loc[test_index.tolist()])))"
   ]
  },
  {
   "cell_type": "code",
   "execution_count": 40,
   "id": "f48ee3b4-376c-4a5c-ae27-57adaf7c7a3e",
   "metadata": {},
   "outputs": [
    {
     "name": "stdout",
     "output_type": "stream",
     "text": [
      "ori\n",
      "0.8317749787497102\n",
      "0.7338485316846987\n"
     ]
    }
   ],
   "source": [
    "feature=pd.read_csv('data/bio_feature_test.csv')\n",
    "clf = tree.DecisionTreeClassifier(max_depth=10)\n",
    "clf.fit(feature.loc[train_index.tolist()], label3.loc[train_index.tolist()])\n",
    "print('ori')\n",
    "print(accuracy_score( label3.loc[train_index.tolist()], clf.predict(feature.loc[train_index.tolist()])))\n",
    "print(accuracy_score( label3.loc[test_index.tolist()], clf.predict(feature.loc[test_index.tolist()])))"
   ]
  },
  {
   "cell_type": "code",
   "execution_count": 34,
   "id": "3b4fa75b-a022-40a0-bcee-ee99b998e12a",
   "metadata": {},
   "outputs": [],
   "source": [
    "algo_list=['CCA','metaCCA','KCCA','deep']"
   ]
  },
  {
   "cell_type": "code",
   "execution_count": 41,
   "id": "37fdaded-728c-4e6c-b847-a3011e6f51a9",
   "metadata": {},
   "outputs": [
    {
     "name": "stdout",
     "output_type": "stream",
     "text": [
      "CCA\n",
      "0.9942044664245422\n",
      "0.9706336939721792\n",
      "metaCCA\n",
      "0.9897225871261881\n",
      "0.9666151468315302\n",
      "KCCA\n",
      "0.9998454524379878\n",
      "0.9959814528593508\n",
      "deep\n",
      "0.9959817633876825\n",
      "0.9799072642967542\n"
     ]
    }
   ],
   "source": [
    "for algo in algo_list:\n",
    "    feature=pd.read_csv('data/'+algo+'_fe.csv',index_col=[0])\n",
    "    clf = tree.DecisionTreeClassifier(max_depth=10)\n",
    "    clf.fit(feature.loc[train_index.tolist()], label1.loc[train_index.tolist()])\n",
    "    print(algo )\n",
    "    print(accuracy_score( label1.loc[train_index.tolist()], clf.predict(feature.loc[train_index.tolist()])))\n",
    "    print(accuracy_score( label1.loc[test_index.tolist()], clf.predict(feature.loc[test_index.tolist()])))"
   ]
  },
  {
   "cell_type": "code",
   "execution_count": 42,
   "id": "dce45968-3bbc-4cdb-96e0-d2abf0e8284b",
   "metadata": {},
   "outputs": [
    {
     "name": "stdout",
     "output_type": "stream",
     "text": [
      "CCA\n",
      "0.9019395719032532\n",
      "0.8584234930448222\n",
      "metaCCA\n",
      "0.9089714859748087\n",
      "0.852241112828439\n",
      "KCCA\n",
      "0.9299126806274631\n",
      "0.9217928902627511\n",
      "deep\n",
      "0.9129124488061201\n",
      "0.8754250386398763\n"
     ]
    }
   ],
   "source": [
    "for algo in algo_list:\n",
    "    feature=pd.read_csv('data/'+algo+'_fe.csv',index_col=[0])\n",
    "    clf = tree.DecisionTreeClassifier(max_depth=10)\n",
    "    clf.fit(feature.loc[train_index.tolist()], label2.loc[train_index.tolist()])\n",
    "    print(algo )\n",
    "    print(accuracy_score( label2.loc[train_index.tolist()], clf.predict(feature.loc[train_index.tolist()])))\n",
    "    print(accuracy_score( label2.loc[test_index.tolist()], clf.predict(feature.loc[test_index.tolist()])))"
   ]
  },
  {
   "cell_type": "code",
   "execution_count": 43,
   "id": "9070c669-124d-49cd-a565-47cced3c458e",
   "metadata": {},
   "outputs": [
    {
     "name": "stdout",
     "output_type": "stream",
     "text": [
      "CCA\n",
      "0.7973881462019936\n",
      "0.7174652241112829\n",
      "metaCCA\n",
      "0.804265512711537\n",
      "0.7137557959814529\n",
      "KCCA\n",
      "0.7994745382891585\n",
      "0.7814528593508501\n",
      "deep\n",
      "0.7729696314040646\n",
      "0.7227202472952087\n"
     ]
    }
   ],
   "source": [
    "for algo in algo_list:\n",
    "    feature=pd.read_csv('data/'+algo+'_fe.csv',index_col=[0])\n",
    "    clf = tree.DecisionTreeClassifier(max_depth=10)\n",
    "    clf.fit(feature.loc[train_index.tolist()], label3.loc[train_index.tolist()])\n",
    "    print(algo )\n",
    "    print(accuracy_score( label3.loc[train_index.tolist()], clf.predict(feature.loc[train_index.tolist()])))\n",
    "    print(accuracy_score( label3.loc[test_index.tolist()], clf.predict(feature.loc[test_index.tolist()])))"
   ]
  },
  {
   "cell_type": "code",
   "execution_count": null,
   "id": "7fdea462-6cdd-463c-995e-7e42afa27e90",
   "metadata": {},
   "outputs": [],
   "source": []
  },
  {
   "cell_type": "code",
   "execution_count": 53,
   "id": "cbe2639d-4683-4ff9-a019-fbf80a3f55f9",
   "metadata": {},
   "outputs": [
    {
     "name": "stdout",
     "output_type": "stream",
     "text": [
      "CCA\n",
      "1.0\n",
      "1.0\n",
      "metaCCA\n",
      "1.0\n",
      "1.0\n",
      "KCCA\n",
      "1.0\n",
      "1.0\n",
      "deep\n",
      "1.0\n",
      "1.0\n"
     ]
    }
   ],
   "source": [
    "for algo in algo_list:\n",
    "    feature=pd.read_csv('data/'+algo+'_ta.csv',index_col=[0])\n",
    "    clf = tree.DecisionTreeClassifier(max_depth=20)\n",
    "    clf.fit(feature.loc[train_index.tolist()], label1.loc[train_index.tolist()])\n",
    "    print(algo )\n",
    "    print(accuracy_score( label1.loc[train_index.tolist()], clf.predict(feature.loc[train_index.tolist()])))\n",
    "    print(accuracy_score( label1.loc[test_index.tolist()], clf.predict(feature.loc[test_index.tolist()])))"
   ]
  },
  {
   "cell_type": "code",
   "execution_count": 56,
   "id": "404ca4c0-a3aa-4660-a34a-2ba7ac06c527",
   "metadata": {},
   "outputs": [
    {
     "name": "stdout",
     "output_type": "stream",
     "text": [
      "CCA\n",
      "1.0\n",
      "1.0\n",
      "metaCCA\n",
      "1.0\n",
      "1.0\n",
      "KCCA\n",
      "0.9988408932849084\n",
      "0.9984544049459042\n",
      "deep\n",
      "0.997063596321768\n",
      "0.9984544049459042\n"
     ]
    }
   ],
   "source": [
    "for algo in algo_list:\n",
    "    feature=pd.read_csv('data/'+algo+'_ta.csv',index_col=[0])\n",
    "    clf = tree.DecisionTreeClassifier(max_depth=25)\n",
    "    clf.fit(feature.loc[train_index.tolist()], label2.loc[train_index.tolist()])\n",
    "    print(algo )\n",
    "    print(accuracy_score( label2.loc[train_index.tolist()], clf.predict(feature.loc[train_index.tolist()])))\n",
    "    print(accuracy_score( label2.loc[test_index.tolist()], clf.predict(feature.loc[test_index.tolist()])))"
   ]
  },
  {
   "cell_type": "code",
   "execution_count": 55,
   "id": "82342e86-ba31-486a-9294-d6bd5b2a654a",
   "metadata": {},
   "outputs": [
    {
     "name": "stdout",
     "output_type": "stream",
     "text": [
      "CCA\n",
      "0.9666950003863689\n",
      "0.9690880989180835\n",
      "metaCCA\n",
      "0.9471447337918244\n",
      "0.9437403400309119\n",
      "KCCA\n",
      "0.9444401514566108\n",
      "0.9443585780525502\n",
      "deep\n",
      "0.9636040491461247\n",
      "0.9675425038639877\n"
     ]
    }
   ],
   "source": [
    "for algo in algo_list:\n",
    "    feature=pd.read_csv('data/'+algo+'_ta.csv',index_col=[0])\n",
    "    clf = tree.DecisionTreeClassifier(max_depth=25)\n",
    "    clf.fit(feature.loc[train_index.tolist()], label3.loc[train_index.tolist()])\n",
    "    print(algo )\n",
    "    print(accuracy_score( label3.loc[train_index.tolist()], clf.predict(feature.loc[train_index.tolist()])))\n",
    "    print(accuracy_score( label3.loc[test_index.tolist()], clf.predict(feature.loc[test_index.tolist()])))"
   ]
  },
  {
   "cell_type": "code",
   "execution_count": null,
   "id": "55650019-de1b-4930-93ce-22df3c4d6b9f",
   "metadata": {},
   "outputs": [],
   "source": []
  }
 ],
 "metadata": {
  "kernelspec": {
   "display_name": "Python 3 (ipykernel)",
   "language": "python",
   "name": "python3"
  },
  "language_info": {
   "codemirror_mode": {
    "name": "ipython",
    "version": 3
   },
   "file_extension": ".py",
   "mimetype": "text/x-python",
   "name": "python",
   "nbconvert_exporter": "python",
   "pygments_lexer": "ipython3",
   "version": "3.7.11"
  }
 },
 "nbformat": 4,
 "nbformat_minor": 5
}
