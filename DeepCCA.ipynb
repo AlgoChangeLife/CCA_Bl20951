{
 "cells": [
  {
   "cell_type": "code",
   "execution_count": 1,
   "id": "f05aa724-ec7f-495e-8080-0af9ec1c125b",
   "metadata": {},
   "outputs": [],
   "source": [
    "import torch\n",
    "import pandas as pd\n",
    "from linear_cca import linear_cca\n",
    "from DeepCCAModels import DeepCCA\n",
    "from main import Solver\n",
    "import numpy as np\n",
    "torch.set_default_tensor_type(torch.DoubleTensor)"
   ]
  },
  {
   "cell_type": "code",
   "execution_count": 2,
   "id": "a7d16fc6-b9eb-40cf-8dd1-d0390b338c7a",
   "metadata": {},
   "outputs": [],
   "source": [
    "def make_tensor(data_xy):\n",
    "    data_x, data_y = data_xy\n",
    "    data_x = torch.tensor(data_x)\n",
    "    data_y = np.asarray(data_y, dtype='int32')\n",
    "    return data_x, data_y"
   ]
  },
  {
   "cell_type": "code",
   "execution_count": 3,
   "id": "327a710c-d697-4069-8c3d-b2776d31aa12",
   "metadata": {},
   "outputs": [],
   "source": [
    "data1=pd.read_csv('bio_feature_toy.csv')\n",
    "data2=pd.read_csv('label_one_hot_toy.csv')"
   ]
  },
  {
   "cell_type": "code",
   "execution_count": 4,
   "id": "bdec0e9b-078a-4915-9534-68e4ba727709",
   "metadata": {},
   "outputs": [
    {
     "data": {
      "text/plain": [
       "(10000, 224)"
      ]
     },
     "execution_count": 4,
     "metadata": {},
     "output_type": "execute_result"
    }
   ],
   "source": [
    "data1.shape"
   ]
  },
  {
   "cell_type": "code",
   "execution_count": 5,
   "id": "5db5278c-72c4-481a-af5c-48738eb62719",
   "metadata": {},
   "outputs": [
    {
     "data": {
      "text/plain": [
       "(10000, 97)"
      ]
     },
     "execution_count": 5,
     "metadata": {},
     "output_type": "execute_result"
    }
   ],
   "source": [
    "data2.shape"
   ]
  },
  {
   "cell_type": "code",
   "execution_count": null,
   "id": "107b6a66-0d74-4a14-bd7f-a465e0bf1206",
   "metadata": {},
   "outputs": [],
   "source": []
  },
  {
   "cell_type": "code",
   "execution_count": 6,
   "id": "8f05dc0e-24f9-4b0e-8ac6-0b62ac84037b",
   "metadata": {},
   "outputs": [
    {
     "name": "stderr",
     "output_type": "stream",
     "text": [
      "[ INFO : 2021-09-29 20:06:13,834 ] - DataParallel(\n",
      "  (module): DeepCCA(\n",
      "    (model1): MlpNet(\n",
      "      (layers): ModuleList(\n",
      "        (0): Sequential(\n",
      "          (0): Linear(in_features=224, out_features=256, bias=True)\n",
      "          (1): Sigmoid()\n",
      "          (2): BatchNorm1d(256, eps=1e-05, momentum=0.1, affine=False, track_running_stats=True)\n",
      "        )\n",
      "        (1): Sequential(\n",
      "          (0): Linear(in_features=256, out_features=256, bias=True)\n",
      "          (1): Sigmoid()\n",
      "          (2): BatchNorm1d(256, eps=1e-05, momentum=0.1, affine=False, track_running_stats=True)\n",
      "        )\n",
      "        (2): Sequential(\n",
      "          (0): Linear(in_features=256, out_features=256, bias=True)\n",
      "          (1): Sigmoid()\n",
      "          (2): BatchNorm1d(256, eps=1e-05, momentum=0.1, affine=False, track_running_stats=True)\n",
      "        )\n",
      "        (3): Sequential(\n",
      "          (0): BatchNorm1d(256, eps=1e-05, momentum=0.1, affine=False, track_running_stats=True)\n",
      "          (1): Linear(in_features=256, out_features=10, bias=True)\n",
      "        )\n",
      "      )\n",
      "    )\n",
      "    (model2): MlpNet(\n",
      "      (layers): ModuleList(\n",
      "        (0): Sequential(\n",
      "          (0): Linear(in_features=97, out_features=256, bias=True)\n",
      "          (1): Sigmoid()\n",
      "          (2): BatchNorm1d(256, eps=1e-05, momentum=0.1, affine=False, track_running_stats=True)\n",
      "        )\n",
      "        (1): Sequential(\n",
      "          (0): Linear(in_features=256, out_features=256, bias=True)\n",
      "          (1): Sigmoid()\n",
      "          (2): BatchNorm1d(256, eps=1e-05, momentum=0.1, affine=False, track_running_stats=True)\n",
      "        )\n",
      "        (2): Sequential(\n",
      "          (0): Linear(in_features=256, out_features=256, bias=True)\n",
      "          (1): Sigmoid()\n",
      "          (2): BatchNorm1d(256, eps=1e-05, momentum=0.1, affine=False, track_running_stats=True)\n",
      "        )\n",
      "        (3): Sequential(\n",
      "          (0): BatchNorm1d(256, eps=1e-05, momentum=0.1, affine=False, track_running_stats=True)\n",
      "          (1): Linear(in_features=256, out_features=10, bias=True)\n",
      "        )\n",
      "      )\n",
      "    )\n",
      "  )\n",
      ")\n",
      "[ INFO : 2021-09-29 20:06:13,836 ] - RMSprop (\n",
      "Parameter Group 0\n",
      "    alpha: 0.99\n",
      "    centered: False\n",
      "    eps: 1e-08\n",
      "    lr: 0.001\n",
      "    momentum: 0\n",
      "    weight_decay: 1e-05\n",
      ")\n"
     ]
    }
   ],
   "source": [
    "model = DeepCCA([256, 256, 256, 10], [256, 256, 256, 10], 224,97, 10, False).double()\n",
    "\n",
    "solver = Solver(model, linear_cca(), 10, 10, 800,1e-3, 1e-5)"
   ]
  },
  {
   "cell_type": "code",
   "execution_count": 9,
   "id": "3528d420-12f2-434d-a177-123355541f88",
   "metadata": {
    "collapsed": true,
    "jupyter": {
     "outputs_hidden": true
    },
    "tags": []
   },
   "outputs": [
    {
     "name": "stderr",
     "output_type": "stream",
     "text": [
      "D:\\project\\CCA\\CCA\\code\\DeepCCA-master\\objectives.py:54: UserWarning: This overload of nonzero is deprecated:\n",
      "\tnonzero()\n",
      "Consider using one of the following signatures instead:\n",
      "\tnonzero(*, bool as_tuple) (Triggered internally at  ..\\torch\\csrc\\utils\\python_arg_parser.cpp:766.)\n",
      "  posInd1 = torch.gt(D1, eps).nonzero()[:, 0]\n",
      "[ INFO : 2021-09-29 20:07:33,673 ] - Epoch 1/10 - time: 1.03 - training_loss: -7.8340\n",
      "[ INFO : 2021-09-29 20:07:34,714 ] - Epoch 2/10 - time: 1.04 - training_loss: -8.4908\n",
      "[ INFO : 2021-09-29 20:07:35,757 ] - Epoch 3/10 - time: 1.04 - training_loss: -8.7798\n",
      "[ INFO : 2021-09-29 20:07:36,709 ] - Epoch 4/10 - time: 0.95 - training_loss: -8.9497\n",
      "[ INFO : 2021-09-29 20:07:37,729 ] - Epoch 5/10 - time: 1.02 - training_loss: -9.0643\n",
      "[ INFO : 2021-09-29 20:07:38,750 ] - Epoch 6/10 - time: 1.02 - training_loss: -9.1492\n",
      "[ INFO : 2021-09-29 20:07:39,739 ] - Epoch 7/10 - time: 0.99 - training_loss: -9.2142\n",
      "[ INFO : 2021-09-29 20:07:40,881 ] - Epoch 8/10 - time: 1.14 - training_loss: -9.2679\n",
      "[ INFO : 2021-09-29 20:07:41,983 ] - Epoch 9/10 - time: 1.10 - training_loss: -9.3148\n",
      "[ INFO : 2021-09-29 20:07:43,097 ] - Epoch 10/10 - time: 1.11 - training_loss: -9.3524\n"
     ]
    },
    {
     "name": "stdout",
     "output_type": "stream",
     "text": [
      "U.size() torch.Size([10])\n",
      "V.size() torch.Size([10, 10])\n",
      "torch.Size([10])\n",
      "tensor([-0.9962, -0.9941, -0.9918, -0.9878, -0.9815, -0.9680, -0.9589, -0.9461,\n",
      "        -0.9411, -0.9100])\n",
      "U.size() torch.Size([10])\n",
      "V.size() torch.Size([10, 10])\n",
      "torch.Size([10])\n",
      "tensor([-0.9951, -0.9943, -0.9918, -0.9844, -0.9784, -0.9744, -0.9706, -0.9535,\n",
      "        -0.9345, -0.9100])\n",
      "U.size() torch.Size([10])\n",
      "V.size() torch.Size([10, 10])\n",
      "torch.Size([10])\n",
      "tensor([-0.9956, -0.9934, -0.9873, -0.9863, -0.9840, -0.9758, -0.9618, -0.9543,\n",
      "        -0.9374, -0.9286])\n",
      "U.size() torch.Size([10])\n",
      "V.size() torch.Size([10, 10])\n",
      "torch.Size([10])\n",
      "tensor([-0.9956, -0.9924, -0.9903, -0.9879, -0.9856, -0.9812, -0.9718, -0.9451,\n",
      "        -0.9416, -0.9141])\n",
      "U.size() torch.Size([10])\n",
      "V.size() torch.Size([10, 10])\n",
      "torch.Size([10])\n",
      "tensor([-0.9950, -0.9928, -0.9906, -0.9871, -0.9808, -0.9730, -0.9496, -0.9411,\n",
      "        -0.9259, -0.9045])\n",
      "U.size() torch.Size([10])\n",
      "V.size() torch.Size([10, 10])\n",
      "torch.Size([10])\n",
      "tensor([-0.9950, -0.9944, -0.9921, -0.9891, -0.9838, -0.9659, -0.9640, -0.9607,\n",
      "        -0.9551, -0.9334])\n",
      "U.size() torch.Size([10])\n",
      "V.size() torch.Size([10, 10])\n",
      "torch.Size([10])\n",
      "tensor([-0.9960, -0.9930, -0.9897, -0.9891, -0.9850, -0.9714, -0.9624, -0.9439,\n",
      "        -0.9348, -0.9243])\n",
      "U.size() torch.Size([10])\n",
      "V.size() torch.Size([10, 10])\n",
      "torch.Size([10])\n",
      "tensor([-0.9954, -0.9942, -0.9924, -0.9853, -0.9792, -0.9689, -0.9654, -0.9622,\n",
      "        -0.9272, -0.9209])\n",
      "U.size() torch.Size([10])\n",
      "V.size() torch.Size([10, 10])\n",
      "torch.Size([10])\n",
      "tensor([-0.9959, -0.9941, -0.9927, -0.9867, -0.9862, -0.9727, -0.9697, -0.9666,\n",
      "        -0.9376, -0.9064])\n",
      "U.size() torch.Size([10])\n",
      "V.size() torch.Size([10, 10])\n",
      "torch.Size([10])\n",
      "tensor([-0.9956, -0.9943, -0.9924, -0.9828, -0.9772, -0.9646, -0.9618, -0.9524,\n",
      "        -0.9334, -0.9319])\n",
      "U.size() torch.Size([10])\n",
      "V.size() torch.Size([10, 10])\n",
      "torch.Size([10])\n",
      "tensor([-0.9966, -0.9928, -0.9916, -0.9890, -0.9884, -0.9728, -0.9630, -0.9605,\n",
      "        -0.9395, -0.9303])\n",
      "U.size() torch.Size([10])\n",
      "V.size() torch.Size([10, 10])\n",
      "torch.Size([10])\n",
      "tensor([-0.9930, -0.9927, -0.9867, -0.9862, -0.9832, -0.9729, -0.9566, -0.9446,\n",
      "        -0.9258, -0.9123])\n",
      "U.size() torch.Size([10])\n",
      "V.size() torch.Size([10, 10])\n",
      "torch.Size([10])\n",
      "tensor([-0.9966, -0.9952, -0.9909, -0.9894, -0.9835, -0.9757, -0.9573, -0.9533,\n",
      "        -0.9397, -0.9041])\n"
     ]
    }
   ],
   "source": [
    "solver.fit(torch.tensor(data1.values), torch.tensor(data2.values))\n",
    "# TODO: Save linear_cca model if needed"
   ]
  },
  {
   "cell_type": "code",
   "execution_count": 12,
   "id": "c51ab871-887a-43aa-b0d3-0f57b085695c",
   "metadata": {
    "tags": []
   },
   "outputs": [
    {
     "name": "stdout",
     "output_type": "stream",
     "text": [
      "U.size() torch.Size([10])\n",
      "V.size() torch.Size([10, 10])\n",
      "torch.Size([10])\n",
      "tensor([-0.9962, -0.9941, -0.9918, -0.9878, -0.9815, -0.9680, -0.9589, -0.9461,\n",
      "        -0.9411, -0.9100])\n",
      "U.size() torch.Size([10])\n",
      "V.size() torch.Size([10, 10])\n",
      "torch.Size([10])\n",
      "tensor([-0.9951, -0.9943, -0.9918, -0.9844, -0.9784, -0.9744, -0.9706, -0.9535,\n",
      "        -0.9345, -0.9100])\n",
      "U.size() torch.Size([10])\n",
      "V.size() torch.Size([10, 10])\n",
      "torch.Size([10])\n",
      "tensor([-0.9956, -0.9934, -0.9873, -0.9863, -0.9840, -0.9758, -0.9618, -0.9543,\n",
      "        -0.9374, -0.9286])\n",
      "U.size() torch.Size([10])\n",
      "V.size() torch.Size([10, 10])\n",
      "torch.Size([10])\n",
      "tensor([-0.9956, -0.9924, -0.9903, -0.9879, -0.9856, -0.9812, -0.9718, -0.9451,\n",
      "        -0.9416, -0.9141])\n",
      "U.size() torch.Size([10])\n",
      "V.size() torch.Size([10, 10])\n",
      "torch.Size([10])\n",
      "tensor([-0.9950, -0.9928, -0.9906, -0.9871, -0.9808, -0.9730, -0.9496, -0.9411,\n",
      "        -0.9259, -0.9045])\n",
      "U.size() torch.Size([10])\n",
      "V.size() torch.Size([10, 10])\n",
      "torch.Size([10])\n",
      "tensor([-0.9950, -0.9944, -0.9921, -0.9891, -0.9838, -0.9659, -0.9640, -0.9607,\n",
      "        -0.9551, -0.9334])\n",
      "U.size() torch.Size([10])\n",
      "V.size() torch.Size([10, 10])\n",
      "torch.Size([10])\n",
      "tensor([-0.9960, -0.9930, -0.9897, -0.9891, -0.9850, -0.9714, -0.9624, -0.9439,\n",
      "        -0.9348, -0.9243])\n",
      "U.size() torch.Size([10])\n",
      "V.size() torch.Size([10, 10])\n",
      "torch.Size([10])\n",
      "tensor([-0.9954, -0.9942, -0.9924, -0.9853, -0.9792, -0.9689, -0.9654, -0.9622,\n",
      "        -0.9272, -0.9209])\n",
      "U.size() torch.Size([10])\n",
      "V.size() torch.Size([10, 10])\n",
      "torch.Size([10])\n",
      "tensor([-0.9959, -0.9941, -0.9927, -0.9867, -0.9862, -0.9727, -0.9697, -0.9666,\n",
      "        -0.9376, -0.9064])\n",
      "U.size() torch.Size([10])\n",
      "V.size() torch.Size([10, 10])\n",
      "torch.Size([10])\n",
      "tensor([-0.9956, -0.9943, -0.9924, -0.9828, -0.9772, -0.9646, -0.9618, -0.9524,\n",
      "        -0.9334, -0.9319])\n",
      "U.size() torch.Size([10])\n",
      "V.size() torch.Size([10, 10])\n",
      "torch.Size([10])\n",
      "tensor([-0.9966, -0.9928, -0.9916, -0.9890, -0.9884, -0.9728, -0.9630, -0.9605,\n",
      "        -0.9395, -0.9303])\n",
      "U.size() torch.Size([10])\n",
      "V.size() torch.Size([10, 10])\n",
      "torch.Size([10])\n",
      "tensor([-0.9930, -0.9927, -0.9867, -0.9862, -0.9832, -0.9729, -0.9566, -0.9446,\n",
      "        -0.9258, -0.9123])\n",
      "U.size() torch.Size([10])\n",
      "V.size() torch.Size([10, 10])\n",
      "torch.Size([10])\n",
      "tensor([-0.9966, -0.9952, -0.9909, -0.9894, -0.9835, -0.9757, -0.9573, -0.9533,\n",
      "        -0.9397, -0.9041])\n",
      "Linear CCA started!\n"
     ]
    }
   ],
   "source": [
    "loss_mean, losses,outputs = solver.test(torch.tensor(data1.values), torch.tensor(data2.values), True)"
   ]
  },
  {
   "cell_type": "code",
   "execution_count": 13,
   "id": "e0b7a3a0-9149-410a-96ec-06d6da5b9dbf",
   "metadata": {},
   "outputs": [
    {
     "name": "stdout",
     "output_type": "stream",
     "text": [
      "0.9941658463036706\n",
      "0.9930897624058157\n",
      "0.9894035084200657\n",
      "0.9859055411033956\n",
      "0.9850351279221474\n",
      "0.969776985948029\n",
      "0.96166605367725\n",
      "0.9565543832116701\n",
      "0.935620750456905\n",
      "0.9316055471701336\n"
     ]
    }
   ],
   "source": [
    "for i in range(10):\n",
    "    print (np.corrcoef(outputs[0][:,i], outputs[1][:, i])[0,1])"
   ]
  },
  {
   "cell_type": "code",
   "execution_count": 14,
   "id": "e32b4828-ebd1-40bd-a9b0-d999dfec7c35",
   "metadata": {},
   "outputs": [
    {
     "data": {
      "text/plain": [
       "-0.9691300009474669"
      ]
     },
     "execution_count": 14,
     "metadata": {},
     "output_type": "execute_result"
    }
   ],
   "source": [
    "loss_mean"
   ]
  },
  {
   "cell_type": "code",
   "execution_count": 15,
   "id": "007dcda3-4a90-4631-82ab-379415c572a5",
   "metadata": {},
   "outputs": [
    {
     "data": {
      "text/plain": [
       "(130,)"
      ]
     },
     "execution_count": 15,
     "metadata": {},
     "output_type": "execute_result"
    }
   ],
   "source": [
    "np.array(losses).reshape(-1).shape"
   ]
  },
  {
   "cell_type": "code",
   "execution_count": 16,
   "id": "96348788-24f9-44b3-b076-1d0b9142fd21",
   "metadata": {},
   "outputs": [
    {
     "data": {
      "text/plain": [
       "-0.9966211369332887"
      ]
     },
     "execution_count": 16,
     "metadata": {},
     "output_type": "execute_result"
    }
   ],
   "source": [
    "np.min(np.array(losses))"
   ]
  },
  {
   "cell_type": "code",
   "execution_count": 17,
   "id": "0d32f2fe-ce44-41a0-a58a-eadb08ab2caf",
   "metadata": {},
   "outputs": [
    {
     "data": {
      "text/plain": [
       "(10000, 10)"
      ]
     },
     "execution_count": 17,
     "metadata": {},
     "output_type": "execute_result"
    }
   ],
   "source": [
    "outputs[0].shape"
   ]
  },
  {
   "cell_type": "code",
   "execution_count": 18,
   "id": "c5e59387-42c0-48f4-a195-047235259e33",
   "metadata": {},
   "outputs": [],
   "source": [
    "pd.DataFrame(outputs[0]).to_csv('deep_10_fe.csv')"
   ]
  },
  {
   "cell_type": "code",
   "execution_count": 19,
   "id": "3feba747-7be6-4584-83d4-ead6e1150dea",
   "metadata": {},
   "outputs": [],
   "source": [
    "pd.DataFrame(outputs[1]).to_csv('deep_10_ta.csv')"
   ]
  },
  {
   "cell_type": "code",
   "execution_count": null,
   "id": "71c879ed-f2f5-4e5a-a3cc-18a5ad1f9bb3",
   "metadata": {},
   "outputs": [],
   "source": []
  }
 ],
 "metadata": {
  "kernelspec": {
   "display_name": "Python 3 (ipykernel)",
   "language": "python",
   "name": "python3"
  },
  "language_info": {
   "codemirror_mode": {
    "name": "ipython",
    "version": 3
   },
   "file_extension": ".py",
   "mimetype": "text/x-python",
   "name": "python",
   "nbconvert_exporter": "python",
   "pygments_lexer": "ipython3",
   "version": "3.7.11"
  }
 },
 "nbformat": 4,
 "nbformat_minor": 5
}
