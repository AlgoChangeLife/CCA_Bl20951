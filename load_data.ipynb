{
 "cells": [
  {
   "cell_type": "code",
   "execution_count": 1,
   "metadata": {},
   "outputs": [],
   "source": [
    "import h5py    \n",
    "import numpy as np    \n",
    "import scanpy as sc\n",
    "import os\n",
    "import pandas as pd\n",
    "import pickle as pkl\n",
    "import matplotlib as mpl\n",
    "import matplotlib.pyplot as plt\n",
    "import scipy.stats\n",
    "\n",
    "sc.settings.verbosity = 3"
   ]
  },
  {
   "cell_type": "code",
   "execution_count": 2,
   "metadata": {},
   "outputs": [],
   "source": [
    "f1 = h5py.File('../data/pbmc_multimodal.h5','r+') "
   ]
  },
  {
   "cell_type": "code",
   "execution_count": 3,
   "metadata": {},
   "outputs": [
    {
     "name": "stdout",
     "output_type": "stream",
     "text": [
      "Keys: <KeysViewHDF5 ['active.ident', 'assays', 'cell.names', 'commands', 'graphs', 'images', 'meta.data', 'misc', 'neighbors', 'reductions', 'tools']>\n"
     ]
    }
   ],
   "source": [
    "print(\"Keys: %s\" % f1.keys())"
   ]
  },
  {
   "cell_type": "code",
   "execution_count": 4,
   "metadata": {},
   "outputs": [
    {
     "name": "stdout",
     "output_type": "stream",
     "text": [
      "<HDF5 group \"/active.ident\" (2 members)>\n",
      "<HDF5 group \"/assays\" (2 members)>\n",
      "<HDF5 dataset \"cell.names\": shape (161764,), type \"|O\">\n",
      "<HDF5 group \"/commands\" (1 members)>\n",
      "<HDF5 group \"/graphs\" (2 members)>\n",
      "<HDF5 group \"/images\" (0 members)>\n",
      "<HDF5 group \"/meta.data\" (15 members)>\n",
      "<HDF5 group \"/misc\" (0 members)>\n",
      "<HDF5 group \"/neighbors\" (0 members)>\n",
      "<HDF5 group \"/reductions\" (6 members)>\n",
      "<HDF5 group \"/tools\" (0 members)>\n"
     ]
    }
   ],
   "source": [
    "for key in f1.keys():\n",
    "    print(f1[key])"
   ]
  },
  {
   "cell_type": "markdown",
   "metadata": {},
   "source": [
    "## active.ident"
   ]
  },
  {
   "cell_type": "code",
   "execution_count": 5,
   "metadata": {},
   "outputs": [
    {
     "data": {
      "text/plain": [
       "<KeysViewHDF5 ['levels', 'values']>"
      ]
     },
     "execution_count": 5,
     "metadata": {},
     "output_type": "execute_result"
    }
   ],
   "source": [
    "f1['active.ident'].keys()"
   ]
  },
  {
   "cell_type": "code",
   "execution_count": 6,
   "metadata": {},
   "outputs": [
    {
     "data": {
      "text/plain": [
       "array(['CD14 Mono', 'CD4 TCM_1', 'CD8 Naive', 'NK_2', 'CD8 TEM_1',\n",
       "       'CD16 Mono', 'B intermediate lambda', 'CD4 Naive', 'CD4 CTL',\n",
       "       'B naive kappa', 'CD4 TCM_3', 'MAIT', 'CD4 TCM_2', 'CD8 TEM_2',\n",
       "       'gdT_3', 'NK_1', 'CD8 TCM_1', 'dnT_2', 'B intermediate kappa',\n",
       "       'B memory kappa', 'Doublet', 'pDC', 'CD8 TEM_5', 'gdT_1',\n",
       "       'B naive lambda', 'NK_4', 'CD8 Proliferating', 'CD8 TCM_2',\n",
       "       'Treg Naive', 'Plasma', 'CD4 TEM_1', 'Treg Memory', 'CD4 TEM_3',\n",
       "       'CD8 TCM_3', 'cDC2_1', 'NK Proliferating', 'CD8 TEM_4', 'ASDC_pDC',\n",
       "       'CD4 TEM_2', 'B memory lambda', 'dnT_1', 'HSPC', 'cDC2_2',\n",
       "       'Platelet', 'NK_CD56bright', 'CD4 TEM_4', 'CD8 TEM_6',\n",
       "       'CD8 Naive_2', 'gdT_2', 'NK_3', 'CD8 TEM_3', 'CD4 Proliferating',\n",
       "       'Eryth', 'gdT_4', 'Plasmablast', 'cDC1', 'ASDC_mDC', 'ILC'],\n",
       "      dtype=object)"
      ]
     },
     "execution_count": 6,
     "metadata": {},
     "output_type": "execute_result"
    }
   ],
   "source": [
    "f1['active.ident']['levels'][:]"
   ]
  },
  {
   "cell_type": "code",
   "execution_count": 7,
   "metadata": {},
   "outputs": [
    {
     "data": {
      "text/plain": [
       "array([ 1,  2,  3, ..., 19,  6,  1])"
      ]
     },
     "execution_count": 7,
     "metadata": {},
     "output_type": "execute_result"
    }
   ],
   "source": [
    "f1['active.ident']['values'][:]"
   ]
  },
  {
   "cell_type": "markdown",
   "metadata": {},
   "source": [
    "# assays \n",
    "## include feature"
   ]
  },
  {
   "cell_type": "code",
   "execution_count": 8,
   "metadata": {},
   "outputs": [
    {
     "data": {
      "text/plain": [
       "<KeysViewHDF5 ['ADT', 'SCT']>"
      ]
     },
     "execution_count": 8,
     "metadata": {},
     "output_type": "execute_result"
    }
   ],
   "source": [
    "f1['assays'].keys()"
   ]
  },
  {
   "cell_type": "code",
   "execution_count": 9,
   "metadata": {},
   "outputs": [
    {
     "data": {
      "text/plain": [
       "<KeysViewHDF5 ['counts', 'data', 'features', 'misc', 'variable.features']>"
      ]
     },
     "execution_count": 9,
     "metadata": {},
     "output_type": "execute_result"
    }
   ],
   "source": [
    "f1['assays']['ADT'].keys()"
   ]
  },
  {
   "cell_type": "code",
   "execution_count": 10,
   "metadata": {
    "tags": []
   },
   "outputs": [
    {
     "name": "stdout",
     "output_type": "stream",
     "text": [
      "********************\n",
      "counts\n",
      "<HDF5 group \"/assays/ADT/counts\" (3 members)>\n",
      "********************\n",
      "data\n",
      "<HDF5 dataset \"data\": shape (161764, 228), type \"<f8\">\n",
      "[[1.95916424 0.86914159 1.48523314 ... 0.55307644 1.04608444 1.72565693]\n",
      " [0.4322284  1.01422751 0.79594998 ... 0.66587988 0.85514588 1.37971736]\n",
      " [0.61381759 1.30390619 0.75610373 ... 0.6874892  0.75610373 1.04246048]\n",
      " ...\n",
      " [1.50685426 0.54914608 1.0656108  ... 0.25674036 0.25674036 1.16168749]\n",
      " [1.63537843 0.32520632 1.19570797 ... 0.45519093 0.51435145 2.10485699]\n",
      " [1.58503    0.64458811 1.61118685 ... 0.416905   0.23002318 2.07731277]]\n",
      "********************\n",
      "features\n",
      "<HDF5 dataset \"features\": shape (228,), type \"|O\">\n",
      "['CD39' 'Rat-IgG1-1' 'CD107a' 'CD62P' 'TCR-2' 'CD30' 'CD31' 'CD34' 'CD35'\n",
      " 'CD36' 'CD223' 'TIGIT' 'TCR-V-9' 'CD226' 'CD178' 'CD319' 'CD171'\n",
      " 'Siglec-8' 'CD340' 'Rat-IgG2b' 'VEGFR-3' 'CD29' 'CD62E' 'CD4-2' 'CD4-1'\n",
      " 'CD22' 'CD3-1' 'CD20' 'CD27' 'CD45RB' 'CD25' 'CD24' 'CD146' 'Galectin-9'\n",
      " 'CD142' 'CD141' 'CD294' 'Rat-IgG1-2' 'CD45RA' 'CX3CR1' 'CD56-2' 'CD56-1'\n",
      " 'CD45RO' 'CD303' 'GP130' 'CD253' 'CD357' 'CD11b-1' 'CD354' 'CD11b-2'\n",
      " 'CLEC12A' 'CD38-2' 'CD38-1' 'Folate' 'Rag-IgG2c' 'CD209' 'CD152' 'CD154'\n",
      " 'CD155' 'Cadherin' 'CD201' 'CD204' 'CD205' 'CD206' 'CD207' 'CD1d' 'CD284'\n",
      " 'CD1c' 'Podoplanin' 'CD1a' 'CD366' 'IgD' 'IgM' 'CD66a/c/e' 'CD49d'\n",
      " 'LOX-1' 'TIM-4' 'CD98' 'CD370' 'CD49a' 'CD44-2' 'C5L2' 'CD44-1' 'CD158e1'\n",
      " 'CD124' 'CD127' 'CD126' 'CD279' 'CD278' 'CD123' 'CD122' 'CD96' 'CD274'\n",
      " 'CD95' 'CD271' 'CD270' 'CD90' 'CD272' 'CD16' 'CD14' 'CD15' 'CD13' 'CD267'\n",
      " 'CD26-2' 'CD200' 'CD26-1' 'CD18' 'CD19' 'CD194' 'TCR-1' 'TCR-V-7.2'\n",
      " 'CD70' 'CD71' 'CD72' 'CD73' 'TCR-V-2' 'CD177' 'CD301' 'CD140a' 'CD140b'\n",
      " 'CD305' 'CD304' 'CD2' 'CD309' 'CD85g' 'CD110' 'CD8' 'CD9' 'HLA-DR'\n",
      " 'CD137' 'CD134' 'CD135' 'CD61' 'CD192' 'CD268' 'CD269' 'CD81' 'CD80'\n",
      " 'CD83' 'CD193' 'TSLPR' 'CD86' 'CCR10' 'Notch-1' 'Notch-2' 'CD337' 'CD79b'\n",
      " 'CD275-2' 'CD275-1' 'CD79a' 'CD49b' 'CD64' 'CD63' 'CD45-2' 'CD45-1'\n",
      " 'CD133-2' 'CD133-1' 'CD69' 'CD68' 'CD314' 'CD11a/CD18' 'CD186' 'CD185'\n",
      " 'CD184' 'CD103' 'CD102' 'CD106' 'CD105' 'CD66b' 'CD252' 'CD109'\n",
      " 'TCR-V-24-J-18' 'Integrin-7' 'CD158b' 'CD158f' 'CD8a' 'CD203c' 'CD52'\n",
      " 'CD195' 'CD196' 'CD57' 'CD54' 'CD55' 'CD99' 'CD59' 'CD199' 'CD93' 'CD244'\n",
      " 'CD158' 'CD235ab' 'CD273' 'CD243' 'CD325' 'CD324' 'CD307e' 'CD172a'\n",
      " 'CD307d' 'CD42b' 'CD115' 'CD117' 'XCR1' 'CD112' 'MERTK' 'B7-H4' 'CD21'\n",
      " 'CD307c/FcRL3' 'CLEC2' 'CD48' 'CD47' 'CD46' 'CD41' 'CD40' 'CD43' 'CD338'\n",
      " 'CD235a' 'CD335' 'CD3-2' 'CD119' 'CD169' 'CD28' 'CD161' 'CD163' 'CD138-1'\n",
      " 'CD164' 'CD138-2' 'CD144' 'CD202b' 'CD11c']\n",
      "********************\n",
      "misc\n",
      "<HDF5 group \"/assays/ADT/misc\" (0 members)>\n",
      "********************\n",
      "variable.features\n",
      "<HDF5 dataset \"variable.features\": shape (224,), type \"|O\">\n",
      "['CD80' 'CD86' 'CD274' 'CD273' 'CD275-1' 'CD11b-1' 'Galectin-9' 'CD270'\n",
      " 'CD252' 'CD155' 'CD112' 'CD47' 'CD70' 'CD30' 'CD48' 'CD40' 'CD154' 'CD52'\n",
      " 'CD3-1' 'CD4-1' 'CD8' 'CD56-1' 'CD45-1' 'CD3-2' 'CD19' 'CD11c' 'CD34'\n",
      " 'CD138-1' 'CD269' 'CD90' 'CD117' 'CD45RA' 'CD123' 'CD105' 'CD201' 'CD194'\n",
      " 'CD4-2' 'CD44-1' 'CD8a' 'CD14' 'CD56-2' 'CD25' 'CD45RO' 'CD279' 'TIGIT'\n",
      " 'Rat-IgG2b' 'CD20' 'CD335' 'CD294' 'CD31' 'CD44-2' 'CD133-1' 'Podoplanin'\n",
      " 'CD140a' 'CD140b' 'Cadherin' 'CD340' 'CD146' 'CD324' 'IgM' 'TCR-1'\n",
      " 'CD195' 'CD196' 'CD185' 'CD103' 'CD69' 'CD152' 'CD223' 'CD27' 'CD107a'\n",
      " 'CD95' 'CD134' 'HLA-DR' 'CD1c' 'CD11b-2' 'CD64' 'CD141' 'CD1d' 'CD314'\n",
      " 'CD66b' 'CD35' 'CD57' 'CD366' 'CD272' 'CD278' 'CD275-2' 'CD96' 'CD39'\n",
      " 'CD178' 'CX3CR1' 'CD24' 'CD21' 'CD79b' 'CD66a/c/e' 'CD244' 'CD235ab'\n",
      " 'Siglec-8' 'CD206' 'CD169' 'CD370' 'XCR1' 'Notch-1' 'Integrin-7' 'CD268'\n",
      " 'CD42b' 'CD54' 'CD62P' 'CD119' 'TCR-2' 'Notch-2' 'CD68' 'Rat-IgG1-1'\n",
      " 'Rat-IgG1-2' 'Rag-IgG2c' 'CD192' 'CD102' 'CD106' 'CD122' 'CD267' 'CD62E'\n",
      " 'CD135' 'CD41' 'CD137' 'CD43' 'CD163' 'CD83' 'CD357' 'CD59' 'CD309'\n",
      " 'CD124' 'CD13' 'CD184' 'CD2' 'CD29' 'CD303' 'CD49b' 'CD61' 'CD81' 'CD98'\n",
      " 'CD177' 'CD55' 'IgD' 'CD18' 'CD28' 'TSLPR' 'CD38-1' 'CD127' 'CD45-2'\n",
      " 'CD15' 'CD22' 'CD71' 'B7-H4' 'CD26-1' 'CD193' 'CD115' 'CD204' 'CD144'\n",
      " 'CD301' 'CD1a' 'CD207' 'CD63' 'CD284' 'CD304' 'CD36' 'CD172a' 'CD85g'\n",
      " 'CD38-2' 'CD243' 'CD72' 'MERTK' 'Folate' 'TIM-4' 'CD171' 'CD325' 'CD93'\n",
      " 'CD200' 'CD338' 'C5L2' 'CD235a' 'CD49a' 'CD49d' 'CD73' 'CD79a' 'CD9'\n",
      " 'TCR-V-7.2' 'TCR-V-2' 'TCR-V-9' 'TCR-V-24-J-18' 'CD354' 'CD202b' 'CD305'\n",
      " 'LOX-1' 'CD203c' 'CD133-2' 'CD209' 'CD110' 'CD337' 'CD253' 'CD186'\n",
      " 'CD226' 'CD205' 'CD109' 'CD11a/CD18' 'CD126' 'CD164' 'CD142'\n",
      " 'CD307c/FcRL3' 'CD307d' 'CD307e' 'CD319' 'CD138-2' 'CD99' 'CLEC12A'\n",
      " 'CD16' 'CD161' 'CCR10' 'CD271' 'GP130' 'CD199' 'CD45RB' 'CD46' 'VEGFR-3'\n",
      " 'CLEC2' 'CD26-2']\n"
     ]
    }
   ],
   "source": [
    "for key in f1['assays']['ADT'].keys():\n",
    "    try:\n",
    "        print('*'*20)\n",
    "        print(key)\n",
    "        print(f1['assays']['ADT'][key])\n",
    "        print(f1['assays']['ADT'][key][:])\n",
    "        \n",
    "    except:\n",
    "        pass"
   ]
  },
  {
   "cell_type": "code",
   "execution_count": 11,
   "metadata": {},
   "outputs": [
    {
     "data": {
      "text/plain": [
       "<KeysViewHDF5 ['SCTModel.list', 'counts', 'data', 'features', 'misc', 'variable.features']>"
      ]
     },
     "execution_count": 11,
     "metadata": {},
     "output_type": "execute_result"
    }
   ],
   "source": [
    "f1['assays']['SCT'].keys()"
   ]
  },
  {
   "cell_type": "code",
   "execution_count": 19,
   "metadata": {},
   "outputs": [
    {
     "name": "stdout",
     "output_type": "stream",
     "text": [
      "********************\n",
      "SCTModel.list\n",
      "<HDF5 group \"/assays/SCT/SCTModel.list\" (1 members)>\n",
      "********************\n",
      "counts\n",
      "<HDF5 group \"/assays/SCT/counts\" (3 members)>\n",
      "********************\n",
      "data\n",
      "<HDF5 group \"/assays/SCT/data\" (3 members)>\n",
      "********************\n",
      "features\n",
      "<HDF5 dataset \"features\": shape (20729,), type \"|O\">\n",
      "['AL627309.1' 'AL669831.5' 'LINC00115' ... 'Z82244.2' 'AP001468.1'\n",
      " 'AP001469.2']\n",
      "********************\n",
      "misc\n",
      "<HDF5 group \"/assays/SCT/misc\" (0 members)>\n",
      "********************\n",
      "variable.features\n",
      "<HDF5 dataset \"variable.features\": shape (5000,), type \"|O\">\n",
      "['S100A9' 'GNLY' 'S100A8' ... 'ZNF546' 'AMT' 'ATG9A']\n"
     ]
    }
   ],
   "source": [
    "for key in f1['assays']['SCT'].keys():\n",
    "    try:\n",
    "        print('*'*20)\n",
    "        print(key)\n",
    "        print(f1['assays']['SCT'][key])\n",
    "        print(f1['assays']['SCT'][key][:])\n",
    "        \n",
    "    except:\n",
    "        pass"
   ]
  },
  {
   "cell_type": "code",
   "execution_count": 15,
   "metadata": {},
   "outputs": [
    {
     "data": {
      "text/plain": [
       "16254.304452699118"
      ]
     },
     "execution_count": 15,
     "metadata": {},
     "output_type": "execute_result"
    }
   ],
   "source": [
    "336935477/20729"
   ]
  },
  {
   "cell_type": "code",
   "execution_count": 14,
   "metadata": {},
   "outputs": [
    {
     "ename": "AttributeError",
     "evalue": "'Dataset' object has no attribute 'keys'",
     "output_type": "error",
     "traceback": [
      "\u001b[1;31m---------------------------------------------------------------------------\u001b[0m",
      "\u001b[1;31mAttributeError\u001b[0m                            Traceback (most recent call last)",
      "\u001b[1;32m<ipython-input-14-6ec2a6e21254>\u001b[0m in \u001b[0;36m<module>\u001b[1;34m\u001b[0m\n\u001b[1;32m----> 1\u001b[1;33m \u001b[1;32mfor\u001b[0m \u001b[0mkey\u001b[0m \u001b[1;32min\u001b[0m \u001b[0mf1\u001b[0m\u001b[1;33m[\u001b[0m\u001b[1;34m'assays'\u001b[0m\u001b[1;33m]\u001b[0m\u001b[1;33m[\u001b[0m\u001b[1;34m'SCT'\u001b[0m\u001b[1;33m]\u001b[0m\u001b[1;33m[\u001b[0m\u001b[1;34m'features'\u001b[0m\u001b[1;33m]\u001b[0m\u001b[1;33m.\u001b[0m\u001b[0mkeys\u001b[0m\u001b[1;33m(\u001b[0m\u001b[1;33m)\u001b[0m\u001b[1;33m:\u001b[0m\u001b[1;33m\u001b[0m\u001b[1;33m\u001b[0m\u001b[0m\n\u001b[0m\u001b[0;32m      2\u001b[0m     \u001b[1;32mtry\u001b[0m\u001b[1;33m:\u001b[0m\u001b[1;33m\u001b[0m\u001b[1;33m\u001b[0m\u001b[0m\n\u001b[0;32m      3\u001b[0m         \u001b[0mprint\u001b[0m\u001b[1;33m(\u001b[0m\u001b[1;34m'*'\u001b[0m\u001b[1;33m*\u001b[0m\u001b[1;36m20\u001b[0m\u001b[1;33m)\u001b[0m\u001b[1;33m\u001b[0m\u001b[1;33m\u001b[0m\u001b[0m\n\u001b[0;32m      4\u001b[0m         \u001b[0mprint\u001b[0m\u001b[1;33m(\u001b[0m\u001b[0mkey\u001b[0m\u001b[1;33m)\u001b[0m\u001b[1;33m\u001b[0m\u001b[1;33m\u001b[0m\u001b[0m\n\u001b[0;32m      5\u001b[0m         \u001b[0mprint\u001b[0m\u001b[1;33m(\u001b[0m\u001b[0mf1\u001b[0m\u001b[1;33m[\u001b[0m\u001b[1;34m'assays'\u001b[0m\u001b[1;33m]\u001b[0m\u001b[1;33m[\u001b[0m\u001b[1;34m'SCT'\u001b[0m\u001b[1;33m]\u001b[0m\u001b[1;33m[\u001b[0m\u001b[1;34m'features'\u001b[0m\u001b[1;33m]\u001b[0m\u001b[1;33m[\u001b[0m\u001b[0mkey\u001b[0m\u001b[1;33m]\u001b[0m\u001b[1;33m)\u001b[0m\u001b[1;33m\u001b[0m\u001b[1;33m\u001b[0m\u001b[0m\n",
      "\u001b[1;31mAttributeError\u001b[0m: 'Dataset' object has no attribute 'keys'"
     ]
    }
   ],
   "source": [
    "for key in f1['assays']['SCT']['features'].keys():\n",
    "    try:\n",
    "        print('*'*20)\n",
    "        print(key)\n",
    "        print(f1['assays']['SCT']['features'][key])\n",
    "        print(f1['assays']['SCT']['features'][key][:])\n",
    "        \n",
    "    except:\n",
    "        pass"
   ]
  },
  {
   "cell_type": "code",
   "execution_count": 12,
   "metadata": {},
   "outputs": [
    {
     "name": "stdout",
     "output_type": "stream",
     "text": [
      "********************\n",
      "data\n",
      "<HDF5 dataset \"data\": shape (336935477,), type \"<f8\">\n",
      "[0.69314718 0.69314718 0.69314718 ... 1.38629436 0.69314718 0.69314718]\n",
      "********************\n",
      "indices\n",
      "<HDF5 dataset \"indices\": shape (336935477,), type \"<i4\">\n",
      "[    1    19    23 ... 17866 18249 18702]\n",
      "********************\n",
      "indptr\n",
      "<HDF5 dataset \"indptr\": shape (161765,), type \"<i4\">\n",
      "[        0      2548      4163 ... 336928657 336932190 336935477]\n"
     ]
    }
   ],
   "source": [
    "for key in f1['assays']['SCT']['data'].keys():\n",
    "    try:\n",
    "        print('*'*20)\n",
    "        print(key)\n",
    "        print(f1['assays']['SCT']['data'][key])\n",
    "        print(f1['assays']['SCT']['data'][key][:])\n",
    "        \n",
    "    except:\n",
    "        pass"
   ]
  },
  {
   "cell_type": "code",
   "execution_count": 24,
   "metadata": {},
   "outputs": [
    {
     "name": "stdout",
     "output_type": "stream",
     "text": [
      "********************\n",
      "(Intercept)\n",
      "<HDF5 dataset \"(Intercept)\": shape (16378,), type \"<f8\">\n",
      "[-14.01255302 -11.61790352 -12.25439758 ... -13.15957195 -12.59157931\n",
      " -12.26890393]\n",
      "********************\n",
      "_index\n",
      "<HDF5 dataset \"_index\": shape (16378,), type \"|O\">\n",
      "['AL627309.1' 'AL669831.5' 'LINC00115' ... 'AC007325.4' 'AL354822.1'\n",
      " 'AC240274.1']\n",
      "********************\n",
      "detection_rate\n",
      "<HDF5 dataset \"detection_rate\": shape (16378,), type \"<f8\">\n",
      "[0.00234192 0.03178321 0.01739712 ... 0.01137504 0.0142188  0.01689528]\n",
      "********************\n",
      "genes_log_gmean_step1\n",
      "<HDF5 dataset \"genes_log_gmean_step1\": shape (16378,), type \"<i4\">\n",
      "[0 1 1 ... 0 0 1]\n",
      "********************\n",
      "gmean\n",
      "<HDF5 dataset \"gmean\": shape (16378,), type \"<f8\">\n",
      "[0.00162461 0.0231856  0.01226907 ... 0.00798411 0.01031552 0.01217165]\n",
      "********************\n",
      "log_umi\n",
      "<HDF5 dataset \"log_umi\": shape (16378,), type \"<f8\">\n",
      "[2.07188248 2.14451326 2.13796504 ... 2.25246817 2.17774459 2.13956335]\n",
      "********************\n",
      "residual_mean\n",
      "<HDF5 dataset \"residual_mean\": shape (16378,), type \"<f8\">\n",
      "[ 0.00190711 -0.00415244  0.00864095 ...  0.00917433  0.00555841\n",
      "  0.00588635]\n",
      "********************\n",
      "residual_variance\n",
      "<HDF5 dataset \"residual_variance\": shape (16378,), type \"<f8\">\n",
      "[0.99015004 0.93024345 1.04564325 ... 1.01224358 1.0144332  1.03459506]\n",
      "********************\n",
      "theta\n",
      "<HDF5 dataset \"theta\": shape (16378,), type \"<f8\">\n",
      "[0.06855525 0.43043534 0.21257359 ... 0.13566113 0.17687936 0.21075693]\n",
      "********************\n",
      "variance\n",
      "<HDF5 dataset \"variance\": shape (16378,), type \"<f8\">\n",
      "[0.00233683 0.03865459 0.01808942 ... 0.01174562 0.01700096 0.01992384]\n"
     ]
    }
   ],
   "source": [
    "for key in f1['assays']['SCT']['SCTModel.list']['refmodel']['feature.attributes'].keys():\n",
    "    try:\n",
    "        print('*'*20)\n",
    "        print(key)\n",
    "        print(f1['assays']['SCT']['SCTModel.list']['refmodel']['feature.attributes'][key])\n",
    "        print(f1['assays']['SCT']['SCTModel.list']['refmodel']['feature.attributes'][key][:])\n",
    "        \n",
    "    except:\n",
    "        pass"
   ]
  },
  {
   "cell_type": "markdown",
   "metadata": {},
   "source": [
    "## cell.names"
   ]
  },
  {
   "cell_type": "code",
   "execution_count": 11,
   "metadata": {},
   "outputs": [
    {
     "data": {
      "text/plain": [
       "<HDF5 dataset \"cell.names\": shape (161764,), type \"|O\">"
      ]
     },
     "execution_count": 11,
     "metadata": {},
     "output_type": "execute_result"
    }
   ],
   "source": [
    "f1['cell.names']"
   ]
  },
  {
   "cell_type": "code",
   "execution_count": 12,
   "metadata": {},
   "outputs": [
    {
     "data": {
      "text/plain": [
       "array(['L1_AAACCCAAGAAACTCA', 'L1_AAACCCAAGACATACA',\n",
       "       'L1_AAACCCACAACTGGTT', ..., 'E2L8_TTTGTTGGTTAGTTCG',\n",
       "       'E2L8_TTTGTTGGTTGGCTAT', 'E2L8_TTTGTTGTCTCATGGA'], dtype=object)"
      ]
     },
     "execution_count": 12,
     "metadata": {},
     "output_type": "execute_result"
    }
   ],
   "source": [
    "f1['cell.names'][:]"
   ]
  },
  {
   "cell_type": "markdown",
   "metadata": {},
   "source": [
    "## commands"
   ]
  },
  {
   "cell_type": "code",
   "execution_count": 13,
   "metadata": {},
   "outputs": [
    {
     "data": {
      "text/plain": [
       "<KeysViewHDF5 ['NormalizeData.ADT']>"
      ]
     },
     "execution_count": 13,
     "metadata": {},
     "output_type": "execute_result"
    }
   ],
   "source": [
    "f1['commands'].keys()"
   ]
  },
  {
   "cell_type": "code",
   "execution_count": 14,
   "metadata": {},
   "outputs": [
    {
     "data": {
      "text/plain": [
       "<KeysViewHDF5 ['assay', 'margin', 'normalization.method', 'scale.factor', 'verbose']>"
      ]
     },
     "execution_count": 14,
     "metadata": {},
     "output_type": "execute_result"
    }
   ],
   "source": [
    "f1['commands']['NormalizeData.ADT'].keys()"
   ]
  },
  {
   "cell_type": "code",
   "execution_count": 15,
   "metadata": {},
   "outputs": [
    {
     "name": "stdout",
     "output_type": "stream",
     "text": [
      "********************\n",
      "assay\n",
      "<HDF5 dataset \"assay\": shape (1,), type \"|O\">\n",
      "['ADT']\n",
      "********************\n",
      "margin\n",
      "<HDF5 dataset \"margin\": shape (1,), type \"<f8\">\n",
      "[2.]\n",
      "********************\n",
      "normalization.method\n",
      "<HDF5 dataset \"normalization.method\": shape (1,), type \"|O\">\n",
      "['CLR']\n",
      "********************\n",
      "scale.factor\n",
      "<HDF5 dataset \"scale.factor\": shape (1,), type \"<f8\">\n",
      "[10000.]\n",
      "********************\n",
      "verbose\n",
      "<HDF5 dataset \"verbose\": shape (1,), type \"<i4\">\n",
      "[1]\n"
     ]
    }
   ],
   "source": [
    "for key in f1['commands']['NormalizeData.ADT'].keys():\n",
    "    try:\n",
    "        print('*'*20)\n",
    "        print(key)\n",
    "        print(f1['commands']['NormalizeData.ADT'][key])\n",
    "        print(f1['commands']['NormalizeData.ADT'][key][:])\n",
    "        \n",
    "    except:\n",
    "        pass"
   ]
  },
  {
   "cell_type": "markdown",
   "metadata": {},
   "source": [
    "## graphs"
   ]
  },
  {
   "cell_type": "code",
   "execution_count": 16,
   "metadata": {},
   "outputs": [
    {
     "data": {
      "text/plain": [
       "<KeysViewHDF5 ['wknn', 'wsnn']>"
      ]
     },
     "execution_count": 16,
     "metadata": {},
     "output_type": "execute_result"
    }
   ],
   "source": [
    "f1['graphs'].keys()"
   ]
  },
  {
   "cell_type": "code",
   "execution_count": 17,
   "metadata": {},
   "outputs": [
    {
     "name": "stdout",
     "output_type": "stream",
     "text": [
      "********************\n",
      "data\n",
      "<HDF5 dataset \"data\": shape (8218424,), type \"<f8\">\n",
      "[1. 1. 1. ... 1. 1. 1.]\n",
      "********************\n",
      "indices\n",
      "<HDF5 dataset \"indices\": shape (8218424,), type \"<i4\">\n",
      "[     0   1799   2016 ... 160573 161105 161763]\n",
      "********************\n",
      "indptr\n",
      "<HDF5 dataset \"indptr\": shape (161765,), type \"<i4\">\n",
      "[      0      41      74 ... 8218352 8218389 8218424]\n"
     ]
    }
   ],
   "source": [
    "for key in f1['graphs']['wknn'].keys():\n",
    "    try:\n",
    "        print('*'*20)\n",
    "        print(key)\n",
    "        print( f1['graphs']['wknn'][key])\n",
    "        print( f1['graphs']['wknn'][key][:])\n",
    "        \n",
    "    except:\n",
    "        pass"
   ]
  },
  {
   "cell_type": "code",
   "execution_count": 18,
   "metadata": {},
   "outputs": [
    {
     "name": "stdout",
     "output_type": "stream",
     "text": [
      "********************\n",
      "data\n",
      "<HDF5 dataset \"data\": shape (19487586,), type \"<f8\">\n",
      "[1.         0.07142857 0.07142857 ... 0.09090909 0.27659574 1.        ]\n",
      "********************\n",
      "indices\n",
      "<HDF5 dataset \"indices\": shape (19487586,), type \"<i4\">\n",
      "[     0    937   1505 ... 160270 161105 161763]\n",
      "********************\n",
      "indptr\n",
      "<HDF5 dataset \"indptr\": shape (161765,), type \"<i4\">\n",
      "[       0       86      155 ... 19487427 19487473 19487586]\n"
     ]
    }
   ],
   "source": [
    "for key in f1['graphs']['wsnn'].keys():\n",
    "    try:\n",
    "        print('*'*20)\n",
    "        print(key)\n",
    "        print( f1['graphs']['wsnn'][key])\n",
    "        print( f1['graphs']['wsnn'][key][:])\n",
    "        \n",
    "    except:\n",
    "        pass"
   ]
  },
  {
   "cell_type": "code",
   "execution_count": 19,
   "metadata": {},
   "outputs": [
    {
     "data": {
      "text/plain": [
       "('', '', '')"
      ]
     },
     "execution_count": 19,
     "metadata": {},
     "output_type": "execute_result"
    }
   ],
   "source": [
    "'', '', ''"
   ]
  },
  {
   "cell_type": "markdown",
   "metadata": {},
   "source": [
    "## images"
   ]
  },
  {
   "cell_type": "code",
   "execution_count": 20,
   "metadata": {},
   "outputs": [
    {
     "data": {
      "text/plain": [
       "<KeysViewHDF5 []>"
      ]
     },
     "execution_count": 20,
     "metadata": {},
     "output_type": "execute_result"
    }
   ],
   "source": [
    "f1['images'].keys()"
   ]
  },
  {
   "cell_type": "markdown",
   "metadata": {},
   "source": [
    "## meta.data"
   ]
  },
  {
   "cell_type": "code",
   "execution_count": 21,
   "metadata": {},
   "outputs": [
    {
     "data": {
      "text/plain": [
       "<KeysViewHDF5 ['Phase', '_index', 'celltype.l1', 'celltype.l2', 'celltype.l3', 'donor', 'lane', 'nCount_ADT', 'nCount_RNA', 'nCount_SCT', 'nFeature_ADT', 'nFeature_RNA', 'nFeature_SCT', 'orig.ident', 'time']>"
      ]
     },
     "execution_count": 21,
     "metadata": {},
     "output_type": "execute_result"
    }
   ],
   "source": [
    "f1['meta.data'].keys()"
   ]
  },
  {
   "cell_type": "code",
   "execution_count": 22,
   "metadata": {
    "tags": []
   },
   "outputs": [
    {
     "name": "stdout",
     "output_type": "stream",
     "text": [
      "********************\n",
      "Phase\n",
      "<HDF5 dataset \"Phase\": shape (161764,), type \"|O\">\n",
      "['G1' 'G1' 'S' ... 'S' 'G1' 'G1']\n",
      "********************\n",
      "_index\n",
      "<HDF5 dataset \"_index\": shape (161764,), type \"|O\">\n",
      "['L1_AAACCCAAGAAACTCA' 'L1_AAACCCAAGACATACA' 'L1_AAACCCACAACTGGTT' ...\n",
      " 'E2L8_TTTGTTGGTTAGTTCG' 'E2L8_TTTGTTGGTTGGCTAT' 'E2L8_TTTGTTGTCTCATGGA']\n",
      "********************\n",
      "celltype.l1\n",
      "<HDF5 dataset \"celltype.l1\": shape (161764,), type \"|O\">\n",
      "['Mono' 'CD4 T' 'CD8 T' ... 'B' 'Mono' 'Mono']\n",
      "********************\n",
      "celltype.l2\n",
      "<HDF5 dataset \"celltype.l2\": shape (161764,), type \"|O\">\n",
      "['CD14 Mono' 'CD4 TCM' 'CD8 Naive' ... 'B intermediate' 'CD16 Mono'\n",
      " 'CD14 Mono']\n",
      "********************\n",
      "celltype.l3\n",
      "<HDF5 dataset \"celltype.l3\": shape (161764,), type \"|O\">\n",
      "['CD14 Mono' 'CD4 TCM_1' 'CD8 Naive' ... 'B intermediate kappa'\n",
      " 'CD16 Mono' 'CD14 Mono']\n",
      "********************\n",
      "donor\n",
      "<HDF5 dataset \"donor\": shape (161764,), type \"|O\">\n",
      "['P2' 'P1' 'P4' ... 'P8' 'P5' 'P5']\n",
      "********************\n",
      "lane\n",
      "<HDF5 dataset \"lane\": shape (161764,), type \"|O\">\n",
      "['L1' 'L1' 'L1' ... 'E2L8' 'E2L8' 'E2L8']\n",
      "********************\n",
      "nCount_ADT\n",
      "<HDF5 dataset \"nCount_ADT\": shape (161764,), type \"<f8\">\n",
      "[7430. 5949. 6547. ... 4173. 5979. 4232.]\n",
      "********************\n",
      "nCount_RNA\n",
      "<HDF5 dataset \"nCount_RNA\": shape (161764,), type \"<f8\">\n",
      "[10823.  5864.  5067. ... 11619. 15436. 11892.]\n",
      "********************\n",
      "nCount_SCT\n",
      "<HDF5 dataset \"nCount_SCT\": shape (161764,), type \"<f8\">\n",
      "[6380. 5693. 5066. ... 8555. 8970. 8545.]\n",
      "********************\n",
      "nFeature_ADT\n",
      "<HDF5 dataset \"nFeature_ADT\": shape (161764,), type \"<i4\">\n",
      "[221 211 217 ... 208 221 213]\n",
      "********************\n",
      "nFeature_RNA\n",
      "<HDF5 dataset \"nFeature_RNA\": shape (161764,), type \"<i4\">\n",
      "[2915 1617 1381 ... 3224 3999 3330]\n",
      "********************\n",
      "nFeature_SCT\n",
      "<HDF5 dataset \"nFeature_SCT\": shape (161764,), type \"<i4\">\n",
      "[2548 1615 1379 ... 3130 3533 3287]\n",
      "********************\n",
      "orig.ident\n",
      "<HDF5 dataset \"orig.ident\": shape (161764,), type \"|O\">\n",
      "['P2_7' 'P1_7' 'P4_3' ... 'P8_0' 'P5_3' 'P5_7']\n",
      "********************\n",
      "time\n",
      "<HDF5 dataset \"time\": shape (161764,), type \"|O\">\n",
      "['7' '7' '3' ... '0' '3' '7']\n"
     ]
    }
   ],
   "source": [
    "for key in f1['meta.data'].keys():\n",
    "    try:\n",
    "        print('*'*20)\n",
    "        print(key)\n",
    "        print( f1['meta.data'][key])\n",
    "        print( f1['meta.data'][key][:])\n",
    "        \n",
    "    except:\n",
    "        pass"
   ]
  },
  {
   "cell_type": "markdown",
   "metadata": {},
   "source": [
    "## misc"
   ]
  },
  {
   "cell_type": "code",
   "execution_count": 23,
   "metadata": {},
   "outputs": [
    {
     "data": {
      "text/plain": [
       "<KeysViewHDF5 []>"
      ]
     },
     "execution_count": 23,
     "metadata": {},
     "output_type": "execute_result"
    }
   ],
   "source": [
    "f1['misc'].keys()"
   ]
  },
  {
   "cell_type": "markdown",
   "metadata": {},
   "source": [
    "## neighbors"
   ]
  },
  {
   "cell_type": "code",
   "execution_count": 24,
   "metadata": {},
   "outputs": [
    {
     "data": {
      "text/plain": [
       "<KeysViewHDF5 []>"
      ]
     },
     "execution_count": 24,
     "metadata": {},
     "output_type": "execute_result"
    }
   ],
   "source": [
    "f1['neighbors'].keys()"
   ]
  },
  {
   "cell_type": "markdown",
   "metadata": {},
   "source": [
    "## reductions"
   ]
  },
  {
   "cell_type": "code",
   "execution_count": 25,
   "metadata": {},
   "outputs": [
    {
     "data": {
      "text/plain": [
       "<KeysViewHDF5 ['apca', 'aumap', 'pca', 'spca', 'umap', 'wnn.umap']>"
      ]
     },
     "execution_count": 25,
     "metadata": {},
     "output_type": "execute_result"
    }
   ],
   "source": [
    "f1['reductions'].keys()"
   ]
  },
  {
   "cell_type": "markdown",
   "metadata": {},
   "source": [
    "## tools"
   ]
  },
  {
   "cell_type": "code",
   "execution_count": 26,
   "metadata": {},
   "outputs": [
    {
     "data": {
      "text/plain": [
       "<KeysViewHDF5 []>"
      ]
     },
     "execution_count": 26,
     "metadata": {},
     "output_type": "execute_result"
    }
   ],
   "source": [
    "f1['tools'].keys()"
   ]
  },
  {
   "cell_type": "code",
   "execution_count": null,
   "metadata": {},
   "outputs": [],
   "source": []
  }
 ],
 "metadata": {
  "kernelspec": {
   "display_name": "Python 3 (ipykernel)",
   "language": "python",
   "name": "python3"
  },
  "language_info": {
   "codemirror_mode": {
    "name": "ipython",
    "version": 3
   },
   "file_extension": ".py",
   "mimetype": "text/x-python",
   "name": "python",
   "nbconvert_exporter": "python",
   "pygments_lexer": "ipython3",
   "version": "3.7.11"
  }
 },
 "nbformat": 4,
 "nbformat_minor": 4
}
